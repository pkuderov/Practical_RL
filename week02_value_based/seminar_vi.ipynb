{
 "cells": [
  {
   "cell_type": "markdown",
   "metadata": {},
   "source": [
    "### Markov decision process\n",
    "\n",
    "This week's methods are all built to solve __M__arkov __D__ecision __P__rocesses. In the broadest sense, an MDP is defined by how it changes states and how rewards are computed.\n",
    "\n",
    "State transition is defined by $P(s' |s,a)$ - how likely are you to end at state $s'$ if you take action $a$ from state $s$. Now there's more than one way to define rewards, but we'll use $r(s,a,s')$ function for convenience.\n",
    "\n",
    "_This notebook is inspired by the awesome_ [CS294](https://github.com/berkeleydeeprlcourse/homework/blob/36a0b58261acde756abd55306fbe63df226bf62b/hw2/HW2.ipynb) _by Berkeley_"
   ]
  },
  {
   "cell_type": "markdown",
   "metadata": {},
   "source": [
    "For starters, let's define a simple MDP from this picture:\n",
    "\n",
    "<img src=\"https://upload.wikimedia.org/wikipedia/commons/a/ad/Markov_Decision_Process.svg\" width=\"400px\" alt=\"Diagram by Waldoalvarez via Wikimedia Commons, CC BY-SA 4.0\"/>"
   ]
  },
  {
   "cell_type": "code",
   "execution_count": 1,
   "metadata": {
    "ExecuteTime": {
     "end_time": "2018-04-02T13:44:32.642838Z",
     "start_time": "2018-04-02T13:44:32.545142Z"
    }
   },
   "outputs": [],
   "source": [
    "# If you Colab, uncomment this please\n",
    "# !wget -q https://raw.githubusercontent.com/yandexdataschool/Practical_RL/master/week02_value_based/mdp.py\n",
    "\n",
    "transition_probs = {\n",
    "    's0': {\n",
    "        'a0': {'s0': 0.5, 's2': 0.5},\n",
    "        'a1': {'s2': 1.}\n",
    "    },\n",
    "    's1': {\n",
    "        'a0': {'s0': 0.7, 's1': 0.1, 's2': 0.2},\n",
    "        'a1': {'s1': 0.95, 's2': 0.05}\n",
    "    },\n",
    "    's2': {\n",
    "        'a0': {'s0': 0.4, 's2': 0.6},\n",
    "        'a1': {'s0': 0.3, 's1': 0.3, 's2': 0.4}\n",
    "    }\n",
    "}\n",
    "rewards = {\n",
    "    's1': {'a0': {'s0': +5}},\n",
    "    's2': {'a1': {'s0': -1}}\n",
    "}\n",
    "\n",
    "from mdp import MDP\n",
    "mdp = MDP(transition_probs, rewards, initial_state='s0')"
   ]
  },
  {
   "cell_type": "markdown",
   "metadata": {},
   "source": [
    "We can now use MDP just as any other gym environment:"
   ]
  },
  {
   "cell_type": "code",
   "execution_count": 2,
   "metadata": {
    "ExecuteTime": {
     "end_time": "2018-04-02T13:44:34.203384Z",
     "start_time": "2018-04-02T13:44:34.199297Z"
    }
   },
   "outputs": [
    {
     "name": "stdout",
     "output_type": "stream",
     "text": [
      "initial state = s0\n",
      "next_state = s2, reward = 0.0, done = False\n"
     ]
    }
   ],
   "source": [
    "print('initial state =', mdp.reset())\n",
    "next_state, reward, done, info = mdp.step('a1')\n",
    "print('next_state = %s, reward = %s, done = %s' % (next_state, reward, done))"
   ]
  },
  {
   "cell_type": "markdown",
   "metadata": {},
   "source": [
    "but it also has other methods that you'll need for Value Iteration"
   ]
  },
  {
   "cell_type": "code",
   "execution_count": 3,
   "metadata": {
    "ExecuteTime": {
     "end_time": "2018-04-02T13:44:34.956122Z",
     "start_time": "2018-04-02T13:44:34.949856Z"
    }
   },
   "outputs": [
    {
     "name": "stdout",
     "output_type": "stream",
     "text": [
      "mdp.get_all_states = ('s0', 's1', 's2')\n",
      "mdp.get_possible_actions('s1') =  ('a0', 'a1')\n",
      "mdp.get_next_states('s1', 'a0') =  {'s0': 0.7, 's1': 0.1, 's2': 0.2}\n",
      "mdp.get_reward('s1', 'a0', 's0') =  5\n",
      "mdp.get_transition_prob('s1', 'a0', 's0') =  0.7\n"
     ]
    }
   ],
   "source": [
    "print(\"mdp.get_all_states =\", mdp.get_all_states())\n",
    "print(\"mdp.get_possible_actions('s1') = \", mdp.get_possible_actions('s1'))\n",
    "print(\"mdp.get_next_states('s1', 'a0') = \", mdp.get_next_states('s1', 'a0'))\n",
    "print(\"mdp.get_reward('s1', 'a0', 's0') = \", mdp.get_reward('s1', 'a0', 's0'))\n",
    "print(\"mdp.get_transition_prob('s1', 'a0', 's0') = \",\n",
    "      mdp.get_transition_prob('s1', 'a0', 's0'))"
   ]
  },
  {
   "cell_type": "markdown",
   "metadata": {},
   "source": [
    "### Optional: Visualizing MDPs\n",
    "\n",
    "You can also visualize any MDP with the drawing fuction donated by [neer201](https://github.com/neer201).\n",
    "\n",
    "You have to install graphviz for system and for python. For ubuntu just run:\n",
    "\n",
    "1. `sudo apt-get install graphviz`\n",
    "2. `pip install graphviz`\n",
    "3. restart the notebook\n",
    "\n",
    "__Note:__ Installing graphviz on some OS (esp. Windows) may be tricky. However, you can ignore this part alltogether and use the standart vizualization."
   ]
  },
  {
   "cell_type": "code",
   "execution_count": 4,
   "metadata": {
    "ExecuteTime": {
     "end_time": "2018-04-02T13:44:37.797182Z",
     "start_time": "2018-04-02T13:44:37.794073Z"
    },
    "jupyter": {
     "source_hidden": true
    }
   },
   "outputs": [
    {
     "name": "stdout",
     "output_type": "stream",
     "text": [
      "Graphviz available: False\n"
     ]
    }
   ],
   "source": [
    "from mdp import has_graphviz\n",
    "from IPython.display import display\n",
    "print(\"Graphviz available:\", has_graphviz)"
   ]
  },
  {
   "cell_type": "code",
   "execution_count": 5,
   "metadata": {
    "ExecuteTime": {
     "end_time": "2018-04-02T13:44:38.715883Z",
     "start_time": "2018-04-02T13:44:38.648684Z"
    },
    "jupyter": {
     "source_hidden": true
    }
   },
   "outputs": [],
   "source": [
    "if has_graphviz:\n",
    "    from mdp import plot_graph, plot_graph_with_state_values, \\\n",
    "        plot_graph_optimal_strategy_and_state_values\n",
    "\n",
    "    display(plot_graph(mdp))"
   ]
  },
  {
   "cell_type": "markdown",
   "metadata": {},
   "source": [
    "### Value Iteration\n",
    "\n",
    "Now let's build something to solve this MDP. The simplest algorithm so far is __V__alue __I__teration\n",
    "\n",
    "Here's the pseudo-code for VI:\n",
    "\n",
    "---\n",
    "\n",
    "`1.` Initialize $V^{(0)}(s)=0$, for all $s$\n",
    "\n",
    "`2.` For $i=0, 1, 2, \\dots$\n",
    " \n",
    "`3.` $ \\quad V_{(i+1)}(s) = \\max_a \\sum_{s'} P(s' | s,a) \\cdot [ r(s,a,s') + \\gamma V_{i}(s')]$, for all $s$\n",
    "\n",
    "---"
   ]
  },
  {
   "cell_type": "markdown",
   "metadata": {},
   "source": [
    "First, let's write a function to compute the state-action value function $Q^{\\pi}$, defined as follows\n",
    "\n",
    "$$Q_i(s, a) = \\sum_{s'} P(s' | s,a) \\cdot [ r(s,a,s') + \\gamma V_{i}(s')]$$\n"
   ]
  },
  {
   "cell_type": "code",
   "execution_count": 11,
   "metadata": {
    "ExecuteTime": {
     "end_time": "2018-04-02T13:43:17.101416Z",
     "start_time": "2018-04-02T13:43:17.095468Z"
    }
   },
   "outputs": [],
   "source": [
    "def get_action_value(mdp, state_values, state, action, gamma):\n",
    "    \"\"\" Computes Q(s,a) as in formula above \"\"\"\n",
    "\n",
    "    # make names as in equation\n",
    "    s0, a0, r = state, action, mdp.get_reward\n",
    "    def v(s):\n",
    "        return state_values[s]\n",
    "    \n",
    "    vs = [\n",
    "        prob * (r(s0, a0, s1) + gamma * v(s1))\n",
    "        for (s1, prob) in mdp.get_next_states(s0, a0).items()\n",
    "    ]\n",
    "#     print('vs:', vs)\n",
    "    \n",
    "    q = sum(vs)\n",
    "#     print('q:', q)\n",
    "    return q"
   ]
  },
  {
   "cell_type": "code",
   "execution_count": 12,
   "metadata": {
    "ExecuteTime": {
     "end_time": "2018-04-02T13:43:17.102247Z",
     "start_time": "2018-04-02T13:43:05.502Z"
    }
   },
   "outputs": [],
   "source": [
    "import numpy as np\n",
    "test_Vs = {s: i for i, s in enumerate(sorted(mdp.get_all_states()))}\n",
    "assert np.allclose(get_action_value(mdp, test_Vs, 's2', 'a1', 0.9), 0.69)\n",
    "assert np.allclose(get_action_value(mdp, test_Vs, 's1', 'a0', 0.9), 3.95)"
   ]
  },
  {
   "cell_type": "markdown",
   "metadata": {},
   "source": [
    "Using $Q(s,a)$ we can now define the \"next\" V(s) for value iteration.\n",
    " $$V_{(i+1)}(s) = \\max_a \\sum_{s'} P(s' | s,a) \\cdot [ r(s,a,s') + \\gamma V_{i}(s')] = \\max_a Q_i(s,a)$$"
   ]
  },
  {
   "cell_type": "code",
   "execution_count": 14,
   "metadata": {
    "ExecuteTime": {
     "end_time": "2018-04-02T13:43:17.103358Z",
     "start_time": "2018-04-02T13:43:05.506Z"
    }
   },
   "outputs": [],
   "source": [
    "def get_new_state_value(mdp, state_values, state, gamma):\n",
    "    \"\"\" Computes next V(s) as in formula above. Please do not change state_values in process. \"\"\"\n",
    "    if mdp.is_terminal(state):\n",
    "        return 0\n",
    "    \n",
    "#     print('actions:', mdp.get_possible_actions(state))\n",
    "    qs = [\n",
    "        get_action_value(mdp, state_values, state, action, gamma)\n",
    "        for action in mdp.get_possible_actions(state)\n",
    "    ]\n",
    "#     print('qs:', qs)\n",
    "    \n",
    "    v = max(qs)\n",
    "#     print('v: ', v)\n",
    "    return v"
   ]
  },
  {
   "cell_type": "code",
   "execution_count": 16,
   "metadata": {
    "ExecuteTime": {
     "end_time": "2018-04-02T13:43:17.104340Z",
     "start_time": "2018-04-02T13:43:05.510Z"
    }
   },
   "outputs": [],
   "source": [
    "test_Vs_copy = dict(test_Vs)\n",
    "assert np.allclose(get_new_state_value(mdp, test_Vs, 's0', 0.9), 1.8)\n",
    "assert np.allclose(get_new_state_value(mdp, test_Vs, 's2', 0.9), 1.08)\n",
    "assert test_Vs == test_Vs_copy, \"please do not change state_values in get_new_state_value\""
   ]
  },
  {
   "cell_type": "markdown",
   "metadata": {},
   "source": [
    "Finally, let's combine everything we wrote into a working value iteration algo."
   ]
  },
  {
   "cell_type": "code",
   "execution_count": 32,
   "metadata": {
    "ExecuteTime": {
     "end_time": "2018-04-02T13:44:09.793405Z",
     "start_time": "2018-04-02T13:44:09.770623Z"
    }
   },
   "outputs": [
    {
     "name": "stdout",
     "output_type": "stream",
     "text": [
      "iter    0   |   diff: 3.50000   |   V(s0) = 0.000   V(s1) = 0.000   V(s2) = 0.000\n",
      "iter    1   |   diff: 0.64500   |   V(s0) = 0.000   V(s1) = 3.500   V(s2) = 0.000\n",
      "iter    2   |   diff: 0.58050   |   V(s0) = 0.000   V(s1) = 3.815   V(s2) = 0.645\n",
      "iter    3   |   diff: 0.43582   |   V(s0) = 0.581   V(s1) = 3.959   V(s2) = 0.962\n",
      "iter    4   |   diff: 0.30634   |   V(s0) = 0.866   V(s1) = 4.395   V(s2) = 1.272\n",
      "iter    5   |   diff: 0.27571   |   V(s0) = 1.145   V(s1) = 4.670   V(s2) = 1.579\n",
      "iter    6   |   diff: 0.24347   |   V(s0) = 1.421   V(s1) = 4.926   V(s2) = 1.838\n",
      "iter    7   |   diff: 0.21419   |   V(s0) = 1.655   V(s1) = 5.169   V(s2) = 2.075\n",
      "iter    8   |   diff: 0.19277   |   V(s0) = 1.868   V(s1) = 5.381   V(s2) = 2.290\n",
      "iter    9   |   diff: 0.17327   |   V(s0) = 2.061   V(s1) = 5.573   V(s2) = 2.481\n",
      "iter   10   |   diff: 0.15569   |   V(s0) = 2.233   V(s1) = 5.746   V(s2) = 2.654\n",
      "iter   11   |   diff: 0.14012   |   V(s0) = 2.389   V(s1) = 5.902   V(s2) = 2.810\n",
      "iter   12   |   diff: 0.12610   |   V(s0) = 2.529   V(s1) = 6.042   V(s2) = 2.950\n",
      "iter   13   |   diff: 0.11348   |   V(s0) = 2.655   V(s1) = 6.168   V(s2) = 3.076\n",
      "iter   14   |   diff: 0.10213   |   V(s0) = 2.769   V(s1) = 6.282   V(s2) = 3.190\n",
      "iter   15   |   diff: 0.09192   |   V(s0) = 2.871   V(s1) = 6.384   V(s2) = 3.292\n",
      "iter   16   |   diff: 0.08272   |   V(s0) = 2.963   V(s1) = 6.476   V(s2) = 3.384\n",
      "iter   17   |   diff: 0.07445   |   V(s0) = 3.045   V(s1) = 6.558   V(s2) = 3.467\n",
      "iter   18   |   diff: 0.06701   |   V(s0) = 3.120   V(s1) = 6.633   V(s2) = 3.541\n",
      "iter   19   |   diff: 0.06031   |   V(s0) = 3.187   V(s1) = 6.700   V(s2) = 3.608\n",
      "iter   20   |   diff: 0.05428   |   V(s0) = 3.247   V(s1) = 6.760   V(s2) = 3.668\n",
      "iter   21   |   diff: 0.04885   |   V(s0) = 3.301   V(s1) = 6.814   V(s2) = 3.723\n",
      "iter   22   |   diff: 0.04396   |   V(s0) = 3.350   V(s1) = 6.863   V(s2) = 3.771\n",
      "iter   23   |   diff: 0.03957   |   V(s0) = 3.394   V(s1) = 6.907   V(s2) = 3.815\n",
      "iter   24   |   diff: 0.03561   |   V(s0) = 3.434   V(s1) = 6.947   V(s2) = 3.855\n",
      "iter   25   |   diff: 0.03205   |   V(s0) = 3.469   V(s1) = 6.982   V(s2) = 3.891\n",
      "iter   26   |   diff: 0.02884   |   V(s0) = 3.502   V(s1) = 7.014   V(s2) = 3.923\n",
      "iter   27   |   diff: 0.02596   |   V(s0) = 3.530   V(s1) = 7.043   V(s2) = 3.951\n",
      "iter   28   |   diff: 0.02336   |   V(s0) = 3.556   V(s1) = 7.069   V(s2) = 3.977\n",
      "iter   29   |   diff: 0.02103   |   V(s0) = 3.580   V(s1) = 7.093   V(s2) = 4.001\n",
      "iter   30   |   diff: 0.01892   |   V(s0) = 3.601   V(s1) = 7.114   V(s2) = 4.022\n",
      "iter   31   |   diff: 0.01703   |   V(s0) = 3.620   V(s1) = 7.133   V(s2) = 4.041\n",
      "iter   32   |   diff: 0.01533   |   V(s0) = 3.637   V(s1) = 7.150   V(s2) = 4.058\n",
      "iter   33   |   diff: 0.01380   |   V(s0) = 3.652   V(s1) = 7.165   V(s2) = 4.073\n",
      "iter   34   |   diff: 0.01242   |   V(s0) = 3.666   V(s1) = 7.179   V(s2) = 4.087\n",
      "iter   35   |   diff: 0.01117   |   V(s0) = 3.678   V(s1) = 7.191   V(s2) = 4.099\n",
      "iter   36   |   diff: 0.01006   |   V(s0) = 3.689   V(s1) = 7.202   V(s2) = 4.110\n",
      "iter   37   |   diff: 0.00905   |   V(s0) = 3.699   V(s1) = 7.212   V(s2) = 4.121\n",
      "iter   38   |   diff: 0.00815   |   V(s0) = 3.708   V(s1) = 7.221   V(s2) = 4.130\n",
      "iter   39   |   diff: 0.00733   |   V(s0) = 3.717   V(s1) = 7.230   V(s2) = 4.138\n",
      "iter   40   |   diff: 0.00660   |   V(s0) = 3.724   V(s1) = 7.237   V(s2) = 4.145\n",
      "iter   41   |   diff: 0.00594   |   V(s0) = 3.731   V(s1) = 7.244   V(s2) = 4.152\n",
      "iter   42   |   diff: 0.00534   |   V(s0) = 3.736   V(s1) = 7.249   V(s2) = 4.158\n",
      "iter   43   |   diff: 0.00481   |   V(s0) = 3.742   V(s1) = 7.255   V(s2) = 4.163\n",
      "iter   44   |   diff: 0.00433   |   V(s0) = 3.747   V(s1) = 7.260   V(s2) = 4.168\n",
      "iter   45   |   diff: 0.00390   |   V(s0) = 3.751   V(s1) = 7.264   V(s2) = 4.172\n",
      "iter   46   |   diff: 0.00351   |   V(s0) = 3.755   V(s1) = 7.268   V(s2) = 4.176\n",
      "iter   47   |   diff: 0.00316   |   V(s0) = 3.758   V(s1) = 7.271   V(s2) = 4.179\n",
      "iter   48   |   diff: 0.00284   |   V(s0) = 3.762   V(s1) = 7.275   V(s2) = 4.183\n",
      "iter   49   |   diff: 0.00256   |   V(s0) = 3.764   V(s1) = 7.277   V(s2) = 4.185\n",
      "iter   50   |   diff: 0.00230   |   V(s0) = 3.767   V(s1) = 7.280   V(s2) = 4.188\n",
      "iter   51   |   diff: 0.00207   |   V(s0) = 3.769   V(s1) = 7.282   V(s2) = 4.190\n",
      "iter   52   |   diff: 0.00186   |   V(s0) = 3.771   V(s1) = 7.284   V(s2) = 4.192\n",
      "iter   53   |   diff: 0.00168   |   V(s0) = 3.773   V(s1) = 7.286   V(s2) = 4.194\n",
      "iter   54   |   diff: 0.00151   |   V(s0) = 3.775   V(s1) = 7.288   V(s2) = 4.196\n",
      "iter   55   |   diff: 0.00136   |   V(s0) = 3.776   V(s1) = 7.289   V(s2) = 4.197\n",
      "iter   56   |   diff: 0.00122   |   V(s0) = 3.778   V(s1) = 7.291   V(s2) = 4.199\n",
      "iter   57   |   diff: 0.00110   |   V(s0) = 3.779   V(s1) = 7.292   V(s2) = 4.200\n",
      "iter   58   |   diff: 0.00099   |   V(s0) = 3.780   V(s1) = 7.293   V(s2) = 4.201\n",
      "iter   59   |   diff: 0.00089   |   V(s0) = 3.781   V(s1) = 7.294   V(s2) = 4.202\n",
      "iter   60   |   diff: 0.00080   |   V(s0) = 3.782   V(s1) = 7.295   V(s2) = 4.203\n",
      "iter   61   |   diff: 0.00072   |   V(s0) = 3.783   V(s1) = 7.296   V(s2) = 4.204\n",
      "iter   62   |   diff: 0.00065   |   V(s0) = 3.783   V(s1) = 7.296   V(s2) = 4.205\n",
      "iter   63   |   diff: 0.00058   |   V(s0) = 3.784   V(s1) = 7.297   V(s2) = 4.205\n",
      "iter   64   |   diff: 0.00053   |   V(s0) = 3.785   V(s1) = 7.298   V(s2) = 4.206\n",
      "iter   65   |   diff: 0.00047   |   V(s0) = 3.785   V(s1) = 7.298   V(s2) = 4.206\n",
      "iter   66   |   diff: 0.00043   |   V(s0) = 3.786   V(s1) = 7.299   V(s2) = 4.207\n",
      "iter   67   |   diff: 0.00038   |   V(s0) = 3.786   V(s1) = 7.299   V(s2) = 4.207\n",
      "iter   68   |   diff: 0.00035   |   V(s0) = 3.786   V(s1) = 7.299   V(s2) = 4.208\n",
      "iter   69   |   diff: 0.00031   |   V(s0) = 3.787   V(s1) = 7.300   V(s2) = 4.208\n",
      "iter   70   |   diff: 0.00028   |   V(s0) = 3.787   V(s1) = 7.300   V(s2) = 4.208\n",
      "iter   71   |   diff: 0.00025   |   V(s0) = 3.787   V(s1) = 7.300   V(s2) = 4.209\n",
      "iter   72   |   diff: 0.00023   |   V(s0) = 3.788   V(s1) = 7.301   V(s2) = 4.209\n",
      "iter   73   |   diff: 0.00020   |   V(s0) = 3.788   V(s1) = 7.301   V(s2) = 4.209\n",
      "iter   74   |   diff: 0.00018   |   V(s0) = 3.788   V(s1) = 7.301   V(s2) = 4.209\n",
      "iter   75   |   diff: 0.00017   |   V(s0) = 3.788   V(s1) = 7.301   V(s2) = 4.209\n",
      "iter   76   |   diff: 0.00015   |   V(s0) = 3.788   V(s1) = 7.301   V(s2) = 4.210\n",
      "iter   77   |   diff: 0.00013   |   V(s0) = 3.789   V(s1) = 7.302   V(s2) = 4.210\n",
      "iter   78   |   diff: 0.00012   |   V(s0) = 3.789   V(s1) = 7.302   V(s2) = 4.210\n",
      "iter   79   |   diff: 0.00011   |   V(s0) = 3.789   V(s1) = 7.302   V(s2) = 4.210\n",
      "iter   80   |   diff: 0.00010   |   V(s0) = 3.789   V(s1) = 7.302   V(s2) = 4.210\n",
      "Terminated\n"
     ]
    }
   ],
   "source": [
    "# parameters\n",
    "gamma = 0.9            # discount for MDP\n",
    "num_iter = 100         # maximum iterations, excluding initialization\n",
    "# stop VI if new values are this close to old values (or closer)\n",
    "min_difference = .0001\n",
    "\n",
    "# initialize V(s)\n",
    "state_values = {s: 0 for s in mdp.get_all_states()}\n",
    "\n",
    "if has_graphviz:\n",
    "    display(plot_graph_with_state_values(mdp, state_values))\n",
    "\n",
    "for i in range(num_iter):\n",
    "\n",
    "    # Compute new state values using the functions you defined above.\n",
    "    # It must be a dict {state : float V_new(state)}\n",
    "    new_state_values = {\n",
    "        state: get_new_state_value(mdp, state_values, state, gamma)\n",
    "        for state in mdp.get_all_states()\n",
    "    }\n",
    "\n",
    "    assert isinstance(new_state_values, dict)\n",
    "\n",
    "    # Compute difference\n",
    "    diff = max(\n",
    "        abs(new_state_values[s] - state_values[s])\n",
    "        for s in mdp.get_all_states()\n",
    "    )\n",
    "    print(\"iter %4i   |   diff: %6.5f   |   \" % (i, diff), end=\"\")\n",
    "    print('   '.join(\"V(%s) = %.3f\" % (s, v)\n",
    "                     for s, v in state_values.items()), end='\\n')\n",
    "    state_values = new_state_values\n",
    "\n",
    "    if diff < min_difference:\n",
    "        print(\"Terminated\")\n",
    "        break"
   ]
  },
  {
   "cell_type": "code",
   "execution_count": 33,
   "metadata": {},
   "outputs": [],
   "source": [
    "if has_graphviz:\n",
    "    display(plot_graph_with_state_values(mdp, state_values))"
   ]
  },
  {
   "cell_type": "code",
   "execution_count": 34,
   "metadata": {
    "ExecuteTime": {
     "end_time": "2018-04-02T13:43:17.106395Z",
     "start_time": "2018-04-02T13:43:05.522Z"
    }
   },
   "outputs": [
    {
     "name": "stdout",
     "output_type": "stream",
     "text": [
      "Final state values: {'s0': 3.7890708157821975, 's1': 7.3020423661017855, 's2': 4.210176217461606}\n"
     ]
    },
    {
     "ename": "AssertionError",
     "evalue": "",
     "output_type": "error",
     "traceback": [
      "\u001b[0;31m---------------------------------------------------------------------------\u001b[0m",
      "\u001b[0;31mAssertionError\u001b[0m                            Traceback (most recent call last)",
      "\u001b[0;32m<ipython-input-34-5507cd0a5f95>\u001b[0m in \u001b[0;36m<module>\u001b[0;34m\u001b[0m\n\u001b[1;32m      1\u001b[0m \u001b[0mprint\u001b[0m\u001b[0;34m(\u001b[0m\u001b[0;34m\"Final state values:\"\u001b[0m\u001b[0;34m,\u001b[0m \u001b[0mstate_values\u001b[0m\u001b[0;34m)\u001b[0m\u001b[0;34m\u001b[0m\u001b[0;34m\u001b[0m\u001b[0m\n\u001b[1;32m      2\u001b[0m \u001b[0;34m\u001b[0m\u001b[0m\n\u001b[0;32m----> 3\u001b[0;31m \u001b[0;32massert\u001b[0m \u001b[0mabs\u001b[0m\u001b[0;34m(\u001b[0m\u001b[0mstate_values\u001b[0m\u001b[0;34m[\u001b[0m\u001b[0;34m's0'\u001b[0m\u001b[0;34m]\u001b[0m \u001b[0;34m-\u001b[0m \u001b[0;36m8.032\u001b[0m\u001b[0;34m)\u001b[0m \u001b[0;34m<\u001b[0m \u001b[0;36m0.01\u001b[0m\u001b[0;34m\u001b[0m\u001b[0;34m\u001b[0m\u001b[0m\n\u001b[0m\u001b[1;32m      4\u001b[0m \u001b[0;32massert\u001b[0m \u001b[0mabs\u001b[0m\u001b[0;34m(\u001b[0m\u001b[0mstate_values\u001b[0m\u001b[0;34m[\u001b[0m\u001b[0;34m's1'\u001b[0m\u001b[0;34m]\u001b[0m \u001b[0;34m-\u001b[0m \u001b[0;36m11.169\u001b[0m\u001b[0;34m)\u001b[0m \u001b[0;34m<\u001b[0m \u001b[0;36m0.01\u001b[0m\u001b[0;34m\u001b[0m\u001b[0;34m\u001b[0m\u001b[0m\n\u001b[1;32m      5\u001b[0m \u001b[0;32massert\u001b[0m \u001b[0mabs\u001b[0m\u001b[0;34m(\u001b[0m\u001b[0mstate_values\u001b[0m\u001b[0;34m[\u001b[0m\u001b[0;34m's2'\u001b[0m\u001b[0;34m]\u001b[0m \u001b[0;34m-\u001b[0m \u001b[0;36m8.921\u001b[0m\u001b[0;34m)\u001b[0m \u001b[0;34m<\u001b[0m \u001b[0;36m0.01\u001b[0m\u001b[0;34m\u001b[0m\u001b[0;34m\u001b[0m\u001b[0m\n",
      "\u001b[0;31mAssertionError\u001b[0m: "
     ]
    }
   ],
   "source": [
    "print(\"Final state values:\", state_values)\n",
    "\n",
    "assert abs(state_values['s0'] - 8.032) < 0.01\n",
    "assert abs(state_values['s1'] - 11.169) < 0.01\n",
    "assert abs(state_values['s2'] - 8.921) < 0.01"
   ]
  },
  {
   "cell_type": "markdown",
   "metadata": {},
   "source": [
    "Now let's use those $V^{*}(s)$ to find optimal actions in each state\n",
    "\n",
    " $$\\pi^*(s) = argmax_a \\sum_{s'} P(s' | s,a) \\cdot [ r(s,a,s') + \\gamma V_{i}(s')] = argmax_a Q_i(s,a)$$\n",
    " \n",
    "The only difference vs V(s) is that here we take not max but argmax: find action such with maximum Q(s,a)."
   ]
  },
  {
   "cell_type": "code",
   "execution_count": 39,
   "metadata": {
    "ExecuteTime": {
     "end_time": "2018-04-02T13:43:17.107338Z",
     "start_time": "2018-04-02T13:43:05.525Z"
    }
   },
   "outputs": [],
   "source": [
    "def get_optimal_action(mdp, state_values, state, gamma=0.9):\n",
    "    \"\"\" Finds optimal action using formula above. \"\"\"\n",
    "    if mdp.is_terminal(state):\n",
    "        return None\n",
    "        \n",
    "    actions = mdp.get_possible_actions(state)\n",
    "#     print('actions:', actions)\n",
    "    qs = [\n",
    "        get_action_value(mdp, state_values, state, action, gamma)\n",
    "        for action in actions\n",
    "    ]\n",
    "#     print('qs:', qs)\n",
    "    \n",
    "    a = actions[np.argmax(qs)]\n",
    "#     print('a: ', a)\n",
    "    return a"
   ]
  },
  {
   "cell_type": "code",
   "execution_count": 40,
   "metadata": {
    "ExecuteTime": {
     "end_time": "2018-04-02T13:43:17.108149Z",
     "start_time": "2018-04-02T13:43:05.530Z"
    }
   },
   "outputs": [
    {
     "ename": "AssertionError",
     "evalue": "",
     "output_type": "error",
     "traceback": [
      "\u001b[0;31m---------------------------------------------------------------------------\u001b[0m",
      "\u001b[0;31mAssertionError\u001b[0m                            Traceback (most recent call last)",
      "\u001b[0;32m<ipython-input-40-5b8e595df038>\u001b[0m in \u001b[0;36m<module>\u001b[0;34m\u001b[0m\n\u001b[1;32m      1\u001b[0m \u001b[0;32massert\u001b[0m \u001b[0mget_optimal_action\u001b[0m\u001b[0;34m(\u001b[0m\u001b[0mmdp\u001b[0m\u001b[0;34m,\u001b[0m \u001b[0mstate_values\u001b[0m\u001b[0;34m,\u001b[0m \u001b[0;34m's0'\u001b[0m\u001b[0;34m,\u001b[0m \u001b[0mgamma\u001b[0m\u001b[0;34m)\u001b[0m \u001b[0;34m==\u001b[0m \u001b[0;34m'a1'\u001b[0m\u001b[0;34m\u001b[0m\u001b[0;34m\u001b[0m\u001b[0m\n\u001b[1;32m      2\u001b[0m \u001b[0;32massert\u001b[0m \u001b[0mget_optimal_action\u001b[0m\u001b[0;34m(\u001b[0m\u001b[0mmdp\u001b[0m\u001b[0;34m,\u001b[0m \u001b[0mstate_values\u001b[0m\u001b[0;34m,\u001b[0m \u001b[0;34m's1'\u001b[0m\u001b[0;34m,\u001b[0m \u001b[0mgamma\u001b[0m\u001b[0;34m)\u001b[0m \u001b[0;34m==\u001b[0m \u001b[0;34m'a0'\u001b[0m\u001b[0;34m\u001b[0m\u001b[0;34m\u001b[0m\u001b[0m\n\u001b[0;32m----> 3\u001b[0;31m \u001b[0;32massert\u001b[0m \u001b[0mget_optimal_action\u001b[0m\u001b[0;34m(\u001b[0m\u001b[0mmdp\u001b[0m\u001b[0;34m,\u001b[0m \u001b[0mstate_values\u001b[0m\u001b[0;34m,\u001b[0m \u001b[0;34m's2'\u001b[0m\u001b[0;34m,\u001b[0m \u001b[0mgamma\u001b[0m\u001b[0;34m)\u001b[0m \u001b[0;34m==\u001b[0m \u001b[0;34m'a0'\u001b[0m\u001b[0;34m\u001b[0m\u001b[0;34m\u001b[0m\u001b[0m\n\u001b[0m",
      "\u001b[0;31mAssertionError\u001b[0m: "
     ]
    }
   ],
   "source": [
    "assert get_optimal_action(mdp, state_values, 's0', gamma) == 'a1'\n",
    "assert get_optimal_action(mdp, state_values, 's1', gamma) == 'a0'\n",
    "assert get_optimal_action(mdp, state_values, 's2', gamma) == 'a0'"
   ]
  },
  {
   "cell_type": "code",
   "execution_count": 41,
   "metadata": {
    "ExecuteTime": {
     "end_time": "2018-04-02T13:44:05.017823Z",
     "start_time": "2018-04-02T13:44:04.962755Z"
    }
   },
   "outputs": [],
   "source": [
    "if has_graphviz:\n",
    "    try:\n",
    "        display(plot_graph_optimal_strategy_and_state_values(mdp, state_values))\n",
    "    except ImportError:\n",
    "        raise ImportError(\"Run the cell that starts with \\\"%%writefile mdp_get_action_value.py\\\"\")"
   ]
  },
  {
   "cell_type": "code",
   "execution_count": 42,
   "metadata": {
    "ExecuteTime": {
     "end_time": "2018-04-02T13:43:17.110002Z",
     "start_time": "2018-04-02T13:43:05.538Z"
    }
   },
   "outputs": [
    {
     "name": "stdout",
     "output_type": "stream",
     "text": [
      "average reward:  0.4476\n"
     ]
    },
    {
     "ename": "AssertionError",
     "evalue": "",
     "output_type": "error",
     "traceback": [
      "\u001b[0;31m---------------------------------------------------------------------------\u001b[0m",
      "\u001b[0;31mAssertionError\u001b[0m                            Traceback (most recent call last)",
      "\u001b[0;32m<ipython-input-42-1a85b7bcef3f>\u001b[0m in \u001b[0;36m<module>\u001b[0;34m\u001b[0m\n\u001b[1;32m      9\u001b[0m \u001b[0mprint\u001b[0m\u001b[0;34m(\u001b[0m\u001b[0;34m\"average reward: \"\u001b[0m\u001b[0;34m,\u001b[0m \u001b[0mnp\u001b[0m\u001b[0;34m.\u001b[0m\u001b[0mmean\u001b[0m\u001b[0;34m(\u001b[0m\u001b[0mrewards\u001b[0m\u001b[0;34m)\u001b[0m\u001b[0;34m)\u001b[0m\u001b[0;34m\u001b[0m\u001b[0;34m\u001b[0m\u001b[0m\n\u001b[1;32m     10\u001b[0m \u001b[0;34m\u001b[0m\u001b[0m\n\u001b[0;32m---> 11\u001b[0;31m \u001b[0;32massert\u001b[0m\u001b[0;34m(\u001b[0m\u001b[0;36m0.85\u001b[0m \u001b[0;34m<\u001b[0m \u001b[0mnp\u001b[0m\u001b[0;34m.\u001b[0m\u001b[0mmean\u001b[0m\u001b[0;34m(\u001b[0m\u001b[0mrewards\u001b[0m\u001b[0;34m)\u001b[0m \u001b[0;34m<\u001b[0m \u001b[0;36m1.0\u001b[0m\u001b[0;34m)\u001b[0m\u001b[0;34m\u001b[0m\u001b[0;34m\u001b[0m\u001b[0m\n\u001b[0m",
      "\u001b[0;31mAssertionError\u001b[0m: "
     ]
    }
   ],
   "source": [
    "# Measure agent's average reward\n",
    "\n",
    "s = mdp.reset()\n",
    "rewards = []\n",
    "for _ in range(10000):\n",
    "    s, r, done, _ = mdp.step(get_optimal_action(mdp, state_values, s, gamma))\n",
    "    rewards.append(r)\n",
    "\n",
    "print(\"average reward: \", np.mean(rewards))\n",
    "\n",
    "assert(0.85 < np.mean(rewards) < 1.0)"
   ]
  },
  {
   "cell_type": "markdown",
   "metadata": {},
   "source": [
    "### Frozen lake"
   ]
  },
  {
   "cell_type": "code",
   "execution_count": 532,
   "metadata": {
    "ExecuteTime": {
     "end_time": "2018-04-02T13:43:17.110991Z",
     "start_time": "2018-04-02T13:43:05.541Z"
    }
   },
   "outputs": [
    {
     "name": "stdout",
     "output_type": "stream",
     "text": [
      "*FFF\n",
      "FHFH\n",
      "FFFH\n",
      "HFFG\n",
      "\n"
     ]
    }
   ],
   "source": [
    "from mdp import FrozenLakeEnv\n",
    "mdp = FrozenLakeEnv(slip_chance=0)\n",
    "\n",
    "mdp.render()"
   ]
  },
  {
   "cell_type": "code",
   "execution_count": 70,
   "metadata": {
    "ExecuteTime": {
     "end_time": "2018-04-02T13:43:17.111919Z",
     "start_time": "2018-04-02T13:43:05.545Z"
    }
   },
   "outputs": [],
   "source": [
    "def value_iteration(mdp, state_values=None, gamma=0.9, num_iter=1000, min_difference=1e-5, iter_base=0, print_res=True):\n",
    "    \"\"\" performs num_iter value iteration steps starting from state_values. Same as before but in a function \"\"\"\n",
    "    state_values = state_values or {s: 0 for s in mdp.get_all_states()}\n",
    "    for i in range(num_iter):\n",
    "\n",
    "        # Compute new state values using the functions you defined above. It must be a dict {state : new_V(state)}\n",
    "        new_state_values = {\n",
    "            state: get_new_state_value(mdp, state_values, state, gamma)\n",
    "            for state in mdp.get_all_states()\n",
    "        }\n",
    "\n",
    "        assert isinstance(new_state_values, dict)\n",
    "\n",
    "        # Compute difference\n",
    "        diff = max(abs(new_state_values[s] - state_values[s])\n",
    "                   for s in mdp.get_all_states())\n",
    "\n",
    "        if print_res:\n",
    "            print(\"iter %4i   |   diff: %6.5f   |   V(start): %.3f \" %\n",
    "                  (iter_base + i, diff, new_state_values[mdp._initial_state]))\n",
    "\n",
    "        state_values = new_state_values\n",
    "        if diff < min_difference:\n",
    "            break\n",
    "\n",
    "    return state_values"
   ]
  },
  {
   "cell_type": "code",
   "execution_count": 71,
   "metadata": {
    "ExecuteTime": {
     "end_time": "2018-04-02T13:43:17.112871Z",
     "start_time": "2018-04-02T13:43:05.548Z"
    }
   },
   "outputs": [
    {
     "name": "stdout",
     "output_type": "stream",
     "text": [
      "iter    0   |   diff: 1.00000   |   V(start): 1.000 \n",
      "iter    1   |   diff: 0.90000   |   V(start): 1.900 \n",
      "iter    2   |   diff: 0.81000   |   V(start): 1.900 \n",
      "iter    3   |   diff: 0.72900   |   V(start): 2.629 \n",
      "iter    4   |   diff: 0.65610   |   V(start): 2.629 \n",
      "iter    5   |   diff: 0.59049   |   V(start): 3.219 \n",
      "iter    6   |   diff: 0.53144   |   V(start): 3.219 \n",
      "iter    7   |   diff: 0.47830   |   V(start): 3.698 \n",
      "iter    8   |   diff: 0.43047   |   V(start): 3.698 \n",
      "iter    9   |   diff: 0.38742   |   V(start): 4.085 \n",
      "iter   10   |   diff: 0.34868   |   V(start): 4.085 \n",
      "iter   11   |   diff: 0.31381   |   V(start): 4.399 \n",
      "iter   12   |   diff: 0.28243   |   V(start): 4.399 \n",
      "iter   13   |   diff: 0.25419   |   V(start): 4.653 \n",
      "iter   14   |   diff: 0.22877   |   V(start): 4.653 \n",
      "iter   15   |   diff: 0.20589   |   V(start): 4.859 \n",
      "iter   16   |   diff: 0.18530   |   V(start): 4.859 \n",
      "iter   17   |   diff: 0.16677   |   V(start): 5.026 \n",
      "iter   18   |   diff: 0.15009   |   V(start): 5.026 \n",
      "iter   19   |   diff: 0.13509   |   V(start): 5.161 \n",
      "iter   20   |   diff: 0.12158   |   V(start): 5.161 \n",
      "iter   21   |   diff: 0.10942   |   V(start): 5.270 \n",
      "iter   22   |   diff: 0.09848   |   V(start): 5.270 \n",
      "iter   23   |   diff: 0.08863   |   V(start): 5.359 \n",
      "iter   24   |   diff: 0.07977   |   V(start): 5.359 \n",
      "iter   25   |   diff: 0.07179   |   V(start): 5.431 \n",
      "iter   26   |   diff: 0.06461   |   V(start): 5.431 \n",
      "iter   27   |   diff: 0.05815   |   V(start): 5.489 \n",
      "iter   28   |   diff: 0.05233   |   V(start): 5.489 \n",
      "iter   29   |   diff: 0.04710   |   V(start): 5.536 \n",
      "iter   30   |   diff: 0.04239   |   V(start): 5.536 \n",
      "iter   31   |   diff: 0.03815   |   V(start): 5.574 \n",
      "iter   32   |   diff: 0.03434   |   V(start): 5.574 \n",
      "iter   33   |   diff: 0.03090   |   V(start): 5.605 \n",
      "iter   34   |   diff: 0.02781   |   V(start): 5.605 \n",
      "iter   35   |   diff: 0.02503   |   V(start): 5.630 \n",
      "iter   36   |   diff: 0.02253   |   V(start): 5.630 \n",
      "iter   37   |   diff: 0.02028   |   V(start): 5.650 \n",
      "iter   38   |   diff: 0.01825   |   V(start): 5.650 \n",
      "iter   39   |   diff: 0.01642   |   V(start): 5.667 \n",
      "iter   40   |   diff: 0.01478   |   V(start): 5.667 \n",
      "iter   41   |   diff: 0.01330   |   V(start): 5.680 \n",
      "iter   42   |   diff: 0.01197   |   V(start): 5.680 \n",
      "iter   43   |   diff: 0.01078   |   V(start): 5.691 \n",
      "iter   44   |   diff: 0.00970   |   V(start): 5.691 \n",
      "iter   45   |   diff: 0.00873   |   V(start): 5.700 \n",
      "iter   46   |   diff: 0.00786   |   V(start): 5.700 \n",
      "iter   47   |   diff: 0.00707   |   V(start): 5.707 \n",
      "iter   48   |   diff: 0.00636   |   V(start): 5.707 \n",
      "iter   49   |   diff: 0.00573   |   V(start): 5.712 \n",
      "iter   50   |   diff: 0.00515   |   V(start): 5.712 \n",
      "iter   51   |   diff: 0.00464   |   V(start): 5.717 \n",
      "iter   52   |   diff: 0.00417   |   V(start): 5.717 \n",
      "iter   53   |   diff: 0.00376   |   V(start): 5.721 \n",
      "iter   54   |   diff: 0.00338   |   V(start): 5.721 \n",
      "iter   55   |   diff: 0.00304   |   V(start): 5.724 \n",
      "iter   56   |   diff: 0.00274   |   V(start): 5.724 \n",
      "iter   57   |   diff: 0.00247   |   V(start): 5.726 \n",
      "iter   58   |   diff: 0.00222   |   V(start): 5.726 \n",
      "iter   59   |   diff: 0.00200   |   V(start): 5.728 \n",
      "iter   60   |   diff: 0.00180   |   V(start): 5.728 \n",
      "iter   61   |   diff: 0.00162   |   V(start): 5.730 \n",
      "iter   62   |   diff: 0.00146   |   V(start): 5.730 \n",
      "iter   63   |   diff: 0.00131   |   V(start): 5.731 \n",
      "iter   64   |   diff: 0.00118   |   V(start): 5.731 \n",
      "iter   65   |   diff: 0.00106   |   V(start): 5.732 \n",
      "iter   66   |   diff: 0.00096   |   V(start): 5.732 \n",
      "iter   67   |   diff: 0.00086   |   V(start): 5.733 \n",
      "iter   68   |   diff: 0.00077   |   V(start): 5.733 \n",
      "iter   69   |   diff: 0.00070   |   V(start): 5.734 \n",
      "iter   70   |   diff: 0.00063   |   V(start): 5.734 \n",
      "iter   71   |   diff: 0.00056   |   V(start): 5.734 \n",
      "iter   72   |   diff: 0.00051   |   V(start): 5.734 \n",
      "iter   73   |   diff: 0.00046   |   V(start): 5.735 \n",
      "iter   74   |   diff: 0.00041   |   V(start): 5.735 \n",
      "iter   75   |   diff: 0.00037   |   V(start): 5.735 \n",
      "iter   76   |   diff: 0.00033   |   V(start): 5.735 \n",
      "iter   77   |   diff: 0.00030   |   V(start): 5.736 \n",
      "iter   78   |   diff: 0.00027   |   V(start): 5.736 \n",
      "iter   79   |   diff: 0.00024   |   V(start): 5.736 \n",
      "iter   80   |   diff: 0.00022   |   V(start): 5.736 \n",
      "iter   81   |   diff: 0.00020   |   V(start): 5.736 \n",
      "iter   82   |   diff: 0.00018   |   V(start): 5.736 \n",
      "iter   83   |   diff: 0.00016   |   V(start): 5.736 \n",
      "iter   84   |   diff: 0.00014   |   V(start): 5.736 \n",
      "iter   85   |   diff: 0.00013   |   V(start): 5.736 \n",
      "iter   86   |   diff: 0.00012   |   V(start): 5.736 \n",
      "iter   87   |   diff: 0.00010   |   V(start): 5.736 \n",
      "iter   88   |   diff: 0.00009   |   V(start): 5.736 \n",
      "iter   89   |   diff: 0.00008   |   V(start): 5.736 \n",
      "iter   90   |   diff: 0.00008   |   V(start): 5.736 \n",
      "iter   91   |   diff: 0.00007   |   V(start): 5.737 \n",
      "iter   92   |   diff: 0.00006   |   V(start): 5.737 \n",
      "iter   93   |   diff: 0.00006   |   V(start): 5.737 \n",
      "iter   94   |   diff: 0.00005   |   V(start): 5.737 \n",
      "iter   95   |   diff: 0.00004   |   V(start): 5.737 \n",
      "iter   96   |   diff: 0.00004   |   V(start): 5.737 \n",
      "iter   97   |   diff: 0.00004   |   V(start): 5.737 \n",
      "iter   98   |   diff: 0.00003   |   V(start): 5.737 \n",
      "iter   99   |   diff: 0.00003   |   V(start): 5.737 \n",
      "iter  100   |   diff: 0.00003   |   V(start): 5.737 \n",
      "iter  101   |   diff: 0.00002   |   V(start): 5.737 \n",
      "iter  102   |   diff: 0.00002   |   V(start): 5.737 \n",
      "iter  103   |   diff: 0.00002   |   V(start): 5.737 \n",
      "iter  104   |   diff: 0.00002   |   V(start): 5.737 \n",
      "iter  105   |   diff: 0.00002   |   V(start): 5.737 \n",
      "iter  106   |   diff: 0.00001   |   V(start): 5.737 \n",
      "iter  107   |   diff: 0.00001   |   V(start): 5.737 \n",
      "iter  108   |   diff: 0.00001   |   V(start): 5.737 \n",
      "iter  109   |   diff: 0.00001   |   V(start): 5.737 \n",
      "iter  110   |   diff: 0.00001   |   V(start): 5.737 \n"
     ]
    }
   ],
   "source": [
    "state_values = value_iteration(mdp)"
   ]
  },
  {
   "cell_type": "code",
   "execution_count": 50,
   "metadata": {
    "ExecuteTime": {
     "end_time": "2018-04-02T13:43:17.114062Z",
     "start_time": "2018-04-02T13:43:05.552Z"
    }
   },
   "outputs": [
    {
     "name": "stdout",
     "output_type": "stream",
     "text": [
      "*FFF\n",
      "FHFH\n",
      "FFFH\n",
      "HFFG\n",
      "\n",
      "down\n",
      "\n",
      "SFFF\n",
      "*HFH\n",
      "FFFH\n",
      "HFFG\n",
      "\n",
      "down\n",
      "\n",
      "SFFF\n",
      "FHFH\n",
      "*FFH\n",
      "HFFG\n",
      "\n",
      "right\n",
      "\n",
      "SFFF\n",
      "FHFH\n",
      "F*FH\n",
      "HFFG\n",
      "\n",
      "down\n",
      "\n",
      "SFFF\n",
      "FHFH\n",
      "FFFH\n",
      "H*FG\n",
      "\n",
      "right\n",
      "\n",
      "SFFF\n",
      "FHFH\n",
      "FFFH\n",
      "HF*G\n",
      "\n",
      "right\n",
      "\n",
      "SFFF\n",
      "FHFH\n",
      "FFFH\n",
      "HFF*\n",
      "\n"
     ]
    }
   ],
   "source": [
    "s = mdp.reset()\n",
    "mdp.render()\n",
    "for t in range(100):\n",
    "    a = get_optimal_action(mdp, state_values, s, gamma)\n",
    "    print(a, end='\\n\\n')\n",
    "    s, r, done, _ = mdp.step(a)\n",
    "    mdp.render()\n",
    "    if done:\n",
    "        break"
   ]
  },
  {
   "cell_type": "markdown",
   "metadata": {},
   "source": [
    "### Let's visualize!\n",
    "\n",
    "It's usually interesting to see what your algorithm actually learned under the hood. To do so, we'll plot state value functions and optimal actions at each VI step."
   ]
  },
  {
   "cell_type": "code",
   "execution_count": 51,
   "metadata": {
    "ExecuteTime": {
     "end_time": "2018-04-02T13:43:17.115092Z",
     "start_time": "2018-04-02T13:43:05.556Z"
    }
   },
   "outputs": [],
   "source": [
    "import matplotlib.pyplot as plt\n",
    "%matplotlib inline\n",
    "\n",
    "\n",
    "def draw_policy(mdp, state_values):\n",
    "    plt.figure(figsize=(3, 3))\n",
    "    h, w = mdp.desc.shape\n",
    "    states = sorted(mdp.get_all_states())\n",
    "    V = np.array([state_values[s] for s in states])\n",
    "    Pi = {s: get_optimal_action(mdp, state_values, s, gamma) for s in states}\n",
    "    plt.imshow(V.reshape(w, h), cmap='gray', interpolation='none', clim=(0, 1))\n",
    "    ax = plt.gca()\n",
    "    ax.set_xticks(np.arange(h)-.5)\n",
    "    ax.set_yticks(np.arange(w)-.5)\n",
    "    ax.set_xticklabels([])\n",
    "    ax.set_yticklabels([])\n",
    "    Y, X = np.mgrid[0:4, 0:4]\n",
    "    a2uv = {'left': (-1, 0), 'down': (0, -1), 'right': (1, 0), 'up': (-1, 0)}\n",
    "    for y in range(h):\n",
    "        for x in range(w):\n",
    "            plt.text(x, y, str(mdp.desc[y, x].item()),\n",
    "                     color='g', size=12,  verticalalignment='center',\n",
    "                     horizontalalignment='center', fontweight='bold')\n",
    "            a = Pi[y, x]\n",
    "            if a is None:\n",
    "                continue\n",
    "            u, v = a2uv[a]\n",
    "            plt.arrow(x, y, u*.3, -v*.3, color='m',\n",
    "                      head_width=0.1, head_length=0.1)\n",
    "    plt.grid(color='b', lw=2, ls='-')\n",
    "    plt.show()"
   ]
  },
  {
   "cell_type": "code",
   "execution_count": 52,
   "metadata": {
    "ExecuteTime": {
     "end_time": "2018-04-02T13:43:17.116164Z",
     "start_time": "2018-04-02T13:43:05.560Z"
    }
   },
   "outputs": [
    {
     "name": "stdout",
     "output_type": "stream",
     "text": [
      "after iteration 0\n",
      "iter    0   |   diff: 1.00000   |   V(start): 0.000 \n"
     ]
    },
    {
     "data": {
      "image/png": "[encoded data removed]",
      "text/plain": [
       "<Figure size 216x216 with 1 Axes>"
      ]
     },
     "metadata": {
      "needs_background": "light"
     },
     "output_type": "display_data"
    },
    {
     "name": "stdout",
     "output_type": "stream",
     "text": [
      "after iteration 1\n",
      "iter    0   |   diff: 0.90000   |   V(start): 0.000 \n"
     ]
    },
    {
     "data": {
      "image/png": "[encoded data removed]",
      "text/plain": [
       "<Figure size 216x216 with 1 Axes>"
      ]
     },
     "metadata": {
      "needs_background": "light"
     },
     "output_type": "display_data"
    },
    {
     "name": "stdout",
     "output_type": "stream",
     "text": [
      "after iteration 2\n",
      "iter    0   |   diff: 0.81000   |   V(start): 0.000 \n"
     ]
    },
    {
     "data": {
      "image/png": "[encoded data removed]",
      "text/plain": [
       "<Figure size 216x216 with 1 Axes>"
      ]
     },
     "metadata": {
      "needs_background": "light"
     },
     "output_type": "display_data"
    },
    {
     "name": "stdout",
     "output_type": "stream",
     "text": [
      "after iteration 3\n",
      "iter    0   |   diff: 0.72900   |   V(start): 0.000 \n"
     ]
    },
    {
     "data": {
      "image/png": "[encoded data removed]",
      "text/plain": [
       "<Figure size 216x216 with 1 Axes>"
      ]
     },
     "metadata": {
      "needs_background": "light"
     },
     "output_type": "display_data"
    },
    {
     "name": "stdout",
     "output_type": "stream",
     "text": [
      "after iteration 4\n",
      "iter    0   |   diff: 0.65610   |   V(start): 0.000 \n"
     ]
    },
    {
     "data": {
      "image/png": "[encoded data removed]",
      "text/plain": [
       "<Figure size 216x216 with 1 Axes>"
      ]
     },
     "metadata": {
      "needs_background": "light"
     },
     "output_type": "display_data"
    },
    {
     "name": "stdout",
     "output_type": "stream",
     "text": [
      "after iteration 5\n",
      "iter    0   |   diff: 0.59049   |   V(start): 0.590 \n"
     ]
    },
    {
     "data": {
      "image/png": "[encoded data removed]",
      "text/plain": [
       "<Figure size 216x216 with 1 Axes>"
      ]
     },
     "metadata": {
      "needs_background": "light"
     },
     "output_type": "display_data"
    },
    {
     "name": "stdout",
     "output_type": "stream",
     "text": [
      "after iteration 6\n",
      "iter    0   |   diff: 0.00000   |   V(start): 0.590 \n"
     ]
    },
    {
     "data": {
      "image/png": "[encoded data removed]",
      "text/plain": [
       "<Figure size 216x216 with 1 Axes>"
      ]
     },
     "metadata": {
      "needs_background": "light"
     },
     "output_type": "display_data"
    },
    {
     "name": "stdout",
     "output_type": "stream",
     "text": [
      "after iteration 7\n",
      "iter    0   |   diff: 0.00000   |   V(start): 0.590 \n"
     ]
    },
    {
     "data": {
      "image/png": "[encoded data removed]",
      "text/plain": [
       "<Figure size 216x216 with 1 Axes>"
      ]
     },
     "metadata": {
      "needs_background": "light"
     },
     "output_type": "display_data"
    },
    {
     "name": "stdout",
     "output_type": "stream",
     "text": [
      "after iteration 8\n",
      "iter    0   |   diff: 0.00000   |   V(start): 0.590 \n"
     ]
    },
    {
     "data": {
      "image/png": "[encoded data removed]",
      "text/plain": [
       "<Figure size 216x216 with 1 Axes>"
      ]
     },
     "metadata": {
      "needs_background": "light"
     },
     "output_type": "display_data"
    },
    {
     "name": "stdout",
     "output_type": "stream",
     "text": [
      "after iteration 9\n",
      "iter    0   |   diff: 0.00000   |   V(start): 0.590 \n"
     ]
    },
    {
     "data": {
      "image/png": "[encoded data removed]",
      "text/plain": [
       "<Figure size 216x216 with 1 Axes>"
      ]
     },
     "metadata": {
      "needs_background": "light"
     },
     "output_type": "display_data"
    }
   ],
   "source": [
    "state_values = {s: 0 for s in mdp.get_all_states()}\n",
    "\n",
    "for i in range(10):\n",
    "    print(\"after iteration %i\" % i)\n",
    "    state_values = value_iteration(mdp, state_values, num_iter=1)\n",
    "    draw_policy(mdp, state_values)\n",
    "# please ignore iter 0 at each step"
   ]
  },
  {
   "cell_type": "code",
   "execution_count": 53,
   "metadata": {
    "ExecuteTime": {
     "end_time": "2018-04-02T13:43:17.117143Z",
     "start_time": "2018-04-02T13:43:05.563Z"
    }
   },
   "outputs": [
    {
     "name": "stdout",
     "output_type": "stream",
     "text": [
      "after iteration 29\n",
      "iter    0   |   diff: 0.00000   |   V(start): 0.198 \n"
     ]
    },
    {
     "data": {
      "image/png": "[encoded data removed]",
      "text/plain": [
       "<Figure size 216x216 with 1 Axes>"
      ]
     },
     "metadata": {
      "needs_background": "light"
     },
     "output_type": "display_data"
    }
   ],
   "source": [
    "from IPython.display import clear_output\n",
    "from time import sleep\n",
    "mdp = FrozenLakeEnv(map_name='8x8', slip_chance=0.1)\n",
    "state_values = {s: 0 for s in mdp.get_all_states()}\n",
    "\n",
    "for i in range(30):\n",
    "    clear_output(True)\n",
    "    print(\"after iteration %i\" % i)\n",
    "    state_values = value_iteration(mdp, state_values, num_iter=1)\n",
    "    draw_policy(mdp, state_values)\n",
    "    sleep(0.5)\n",
    "# please ignore iter 0 at each step"
   ]
  },
  {
   "cell_type": "markdown",
   "metadata": {},
   "source": [
    "Massive tests"
   ]
  },
  {
   "cell_type": "code",
   "execution_count": 54,
   "metadata": {
    "ExecuteTime": {
     "end_time": "2018-04-02T13:43:17.118218Z",
     "start_time": "2018-04-02T13:43:05.568Z"
    }
   },
   "outputs": [
    {
     "name": "stdout",
     "output_type": "stream",
     "text": [
      "iter    0   |   diff: 1.00000   |   V(start): 0.000 \n",
      "iter    1   |   diff: 0.90000   |   V(start): 0.000 \n",
      "iter    2   |   diff: 0.81000   |   V(start): 0.000 \n",
      "iter    3   |   diff: 0.72900   |   V(start): 0.000 \n",
      "iter    4   |   diff: 0.65610   |   V(start): 0.000 \n",
      "iter    5   |   diff: 0.59049   |   V(start): 0.590 \n",
      "iter    6   |   diff: 0.00000   |   V(start): 0.590 \n",
      "average reward:  1.0\n",
      "Well done!\n"
     ]
    }
   ],
   "source": [
    "mdp = FrozenLakeEnv(slip_chance=0)\n",
    "state_values = value_iteration(mdp)\n",
    "\n",
    "total_rewards = []\n",
    "for game_i in range(1000):\n",
    "    s = mdp.reset()\n",
    "    rewards = []\n",
    "    for t in range(100):\n",
    "        s, r, done, _ = mdp.step(\n",
    "            get_optimal_action(mdp, state_values, s, gamma))\n",
    "        rewards.append(r)\n",
    "        if done:\n",
    "            break\n",
    "    total_rewards.append(np.sum(rewards))\n",
    "\n",
    "print(\"average reward: \", np.mean(total_rewards))\n",
    "assert(1.0 <= np.mean(total_rewards) <= 1.0)\n",
    "print(\"Well done!\")"
   ]
  },
  {
   "cell_type": "code",
   "execution_count": 58,
   "metadata": {
    "ExecuteTime": {
     "end_time": "2018-04-02T13:43:17.119075Z",
     "start_time": "2018-04-02T13:43:05.571Z"
    }
   },
   "outputs": [
    {
     "name": "stdout",
     "output_type": "stream",
     "text": [
      "iter    0   |   diff: 0.90000   |   V(start): 0.000 \n",
      "iter    1   |   diff: 0.72900   |   V(start): 0.000 \n",
      "iter    2   |   diff: 0.62330   |   V(start): 0.000 \n",
      "iter    3   |   diff: 0.50487   |   V(start): 0.000 \n",
      "iter    4   |   diff: 0.40894   |   V(start): 0.000 \n",
      "iter    5   |   diff: 0.34868   |   V(start): 0.349 \n",
      "iter    6   |   diff: 0.06529   |   V(start): 0.410 \n",
      "iter    7   |   diff: 0.05832   |   V(start): 0.468 \n",
      "iter    8   |   diff: 0.01139   |   V(start): 0.480 \n",
      "iter    9   |   diff: 0.00764   |   V(start): 0.487 \n",
      "iter   10   |   diff: 0.00164   |   V(start): 0.489 \n",
      "iter   11   |   diff: 0.00094   |   V(start): 0.490 \n",
      "iter   12   |   diff: 0.00022   |   V(start): 0.490 \n",
      "iter   13   |   diff: 0.00011   |   V(start): 0.490 \n",
      "iter   14   |   diff: 0.00003   |   V(start): 0.490 \n",
      "iter   15   |   diff: 0.00001   |   V(start): 0.490 \n",
      "iter   16   |   diff: 0.00000   |   V(start): 0.490 \n",
      "average reward:  0.875\n",
      "Well done!\n"
     ]
    }
   ],
   "source": [
    "# Measure agent's average reward\n",
    "mdp = FrozenLakeEnv(slip_chance=0.1)\n",
    "state_values = value_iteration(mdp)\n",
    "\n",
    "total_rewards = []\n",
    "for game_i in range(1000):\n",
    "    s = mdp.reset()\n",
    "    rewards = []\n",
    "    for t in range(100):\n",
    "        s, r, done, _ = mdp.step(\n",
    "            get_optimal_action(mdp, state_values, s, gamma))\n",
    "        rewards.append(r)\n",
    "        if done:\n",
    "            break\n",
    "    total_rewards.append(np.sum(rewards))\n",
    "\n",
    "print(\"average reward: \", np.mean(total_rewards))\n",
    "assert(0.8 <= np.mean(total_rewards) <= 0.95)\n",
    "print(\"Well done!\")"
   ]
  },
  {
   "cell_type": "code",
   "execution_count": 59,
   "metadata": {
    "ExecuteTime": {
     "end_time": "2018-04-02T13:43:17.120316Z",
     "start_time": "2018-04-02T13:43:05.574Z"
    }
   },
   "outputs": [
    {
     "name": "stdout",
     "output_type": "stream",
     "text": [
      "iter    0   |   diff: 0.75000   |   V(start): 0.000 \n",
      "iter    1   |   diff: 0.50625   |   V(start): 0.000 \n",
      "iter    2   |   diff: 0.39867   |   V(start): 0.000 \n",
      "iter    3   |   diff: 0.26910   |   V(start): 0.000 \n",
      "iter    4   |   diff: 0.18164   |   V(start): 0.000 \n",
      "iter    5   |   diff: 0.14013   |   V(start): 0.140 \n",
      "iter    6   |   diff: 0.07028   |   V(start): 0.199 \n",
      "iter    7   |   diff: 0.06030   |   V(start): 0.260 \n",
      "iter    8   |   diff: 0.02594   |   V(start): 0.285 \n",
      "iter    9   |   diff: 0.01918   |   V(start): 0.305 \n",
      "iter   10   |   diff: 0.00858   |   V(start): 0.313 \n",
      "iter   11   |   diff: 0.00560   |   V(start): 0.319 \n",
      "iter   12   |   diff: 0.00260   |   V(start): 0.321 \n",
      "iter   13   |   diff: 0.00159   |   V(start): 0.323 \n",
      "iter   14   |   diff: 0.00076   |   V(start): 0.324 \n",
      "iter   15   |   diff: 0.00045   |   V(start): 0.324 \n",
      "iter   16   |   diff: 0.00022   |   V(start): 0.324 \n",
      "iter   17   |   diff: 0.00012   |   V(start): 0.325 \n",
      "iter   18   |   diff: 0.00006   |   V(start): 0.325 \n",
      "iter   19   |   diff: 0.00003   |   V(start): 0.325 \n",
      "iter   20   |   diff: 0.00002   |   V(start): 0.325 \n",
      "iter   21   |   diff: 0.00001   |   V(start): 0.325 \n",
      "average reward:  0.635\n",
      "Well done!\n"
     ]
    }
   ],
   "source": [
    "# Measure agent's average reward\n",
    "mdp = FrozenLakeEnv(slip_chance=0.25)\n",
    "state_values = value_iteration(mdp)\n",
    "\n",
    "total_rewards = []\n",
    "for game_i in range(1000):\n",
    "    s = mdp.reset()\n",
    "    rewards = []\n",
    "    for t in range(100):\n",
    "        s, r, done, _ = mdp.step(\n",
    "            get_optimal_action(mdp, state_values, s, gamma))\n",
    "        rewards.append(r)\n",
    "        if done:\n",
    "            break\n",
    "    total_rewards.append(np.sum(rewards))\n",
    "\n",
    "print(\"average reward: \", np.mean(total_rewards))\n",
    "assert(0.6 <= np.mean(total_rewards) <= 0.7)\n",
    "print(\"Well done!\")"
   ]
  },
  {
   "cell_type": "code",
   "execution_count": 60,
   "metadata": {
    "ExecuteTime": {
     "end_time": "2018-04-02T13:43:17.121544Z",
     "start_time": "2018-04-02T13:43:05.578Z"
    }
   },
   "outputs": [
    {
     "name": "stdout",
     "output_type": "stream",
     "text": [
      "iter    0   |   diff: 0.80000   |   V(start): 0.000 \n",
      "iter    1   |   diff: 0.57600   |   V(start): 0.000 \n",
      "iter    2   |   diff: 0.41472   |   V(start): 0.000 \n",
      "iter    3   |   diff: 0.29860   |   V(start): 0.000 \n",
      "iter    4   |   diff: 0.24186   |   V(start): 0.000 \n",
      "iter    5   |   diff: 0.19349   |   V(start): 0.000 \n",
      "iter    6   |   diff: 0.15325   |   V(start): 0.000 \n",
      "iter    7   |   diff: 0.12288   |   V(start): 0.000 \n",
      "iter    8   |   diff: 0.09930   |   V(start): 0.000 \n",
      "iter    9   |   diff: 0.08037   |   V(start): 0.000 \n",
      "iter   10   |   diff: 0.06426   |   V(start): 0.000 \n",
      "iter   11   |   diff: 0.05129   |   V(start): 0.000 \n",
      "iter   12   |   diff: 0.04330   |   V(start): 0.000 \n",
      "iter   13   |   diff: 0.03802   |   V(start): 0.033 \n",
      "iter   14   |   diff: 0.03332   |   V(start): 0.058 \n",
      "iter   15   |   diff: 0.02910   |   V(start): 0.087 \n",
      "iter   16   |   diff: 0.01855   |   V(start): 0.106 \n",
      "iter   17   |   diff: 0.01403   |   V(start): 0.120 \n",
      "iter   18   |   diff: 0.00810   |   V(start): 0.128 \n",
      "iter   19   |   diff: 0.00555   |   V(start): 0.133 \n",
      "iter   20   |   diff: 0.00321   |   V(start): 0.137 \n",
      "iter   21   |   diff: 0.00247   |   V(start): 0.138 \n",
      "iter   22   |   diff: 0.00147   |   V(start): 0.139 \n",
      "iter   23   |   diff: 0.00104   |   V(start): 0.140 \n",
      "iter   24   |   diff: 0.00058   |   V(start): 0.140 \n",
      "iter   25   |   diff: 0.00036   |   V(start): 0.141 \n",
      "iter   26   |   diff: 0.00024   |   V(start): 0.141 \n",
      "iter   27   |   diff: 0.00018   |   V(start): 0.141 \n",
      "iter   28   |   diff: 0.00012   |   V(start): 0.141 \n",
      "iter   29   |   diff: 0.00007   |   V(start): 0.141 \n",
      "iter   30   |   diff: 0.00004   |   V(start): 0.141 \n",
      "iter   31   |   diff: 0.00003   |   V(start): 0.141 \n",
      "iter   32   |   diff: 0.00001   |   V(start): 0.141 \n",
      "iter   33   |   diff: 0.00001   |   V(start): 0.141 \n",
      "average reward:  0.74\n",
      "Well done!\n"
     ]
    }
   ],
   "source": [
    "# Measure agent's average reward\n",
    "mdp = FrozenLakeEnv(slip_chance=0.2, map_name='8x8')\n",
    "state_values = value_iteration(mdp)\n",
    "\n",
    "total_rewards = []\n",
    "for game_i in range(1000):\n",
    "    s = mdp.reset()\n",
    "    rewards = []\n",
    "    for t in range(100):\n",
    "        s, r, done, _ = mdp.step(\n",
    "            get_optimal_action(mdp, state_values, s, gamma))\n",
    "        rewards.append(r)\n",
    "        if done:\n",
    "            break\n",
    "    total_rewards.append(np.sum(rewards))\n",
    "\n",
    "print(\"average reward: \", np.mean(total_rewards))\n",
    "assert(0.6 <= np.mean(total_rewards) <= 0.8)\n",
    "print(\"Well done!\")"
   ]
  },
  {
   "cell_type": "markdown",
   "metadata": {},
   "source": [
    "## Bonus area"
   ]
  },
  {
   "cell_type": "markdown",
   "metadata": {},
   "source": [
    "### Bonus 1 - find an MDP for which value iteration takes long to converge  (2+ pts)\n",
    "\n",
    "When we ran value iteration on the small frozen lake problem, the last iteration where an action changed was iteration 6--i.e., value iteration computed the optimal policy at iteration 6. Are there any guarantees regarding how many iterations it'll take value iteration to compute the optimal policy? There are no such guarantees without additional assumptions--we can construct the MDP in such a way that the greedy policy will change after arbitrarily many iterations.\n",
    "\n",
    "Your task: define an MDP with at most 3 states and 2 actions, such that when you run value iteration, the optimal action changes at iteration >= 50. Use discount=0.95. (However, note that the discount doesn't matter here--you can construct an appropriate MDP with any discount.)\n",
    "\n",
    "Note: value function must change at least once after iteration >=50, not necessarily change on every iteration till >=50."
   ]
  },
  {
   "cell_type": "code",
   "execution_count": 113,
   "metadata": {
    "ExecuteTime": {
     "end_time": "2018-04-02T13:43:17.122424Z",
     "start_time": "2018-04-02T13:43:05.582Z"
    }
   },
   "outputs": [],
   "source": [
    "# If you Colab, uncomment this please\n",
    "# !wget -q https://raw.githubusercontent.com/yandexdataschool/Practical_RL/master/week02_value_based/mdp.py\n",
    "\n",
    "gamma = .9\n",
    "transition_probs = {\n",
    "    's0': {\n",
    "        'a0': {'s1': 1.},\n",
    "        'a1': {'s2': 1.}\n",
    "    },\n",
    "    's1': {\n",
    "        'a0': {'s0': 1.}\n",
    "    },\n",
    "    's2': {\n",
    "        'a0': {'s0': 1.}\n",
    "    }\n",
    "}\n",
    "rewards = {\n",
    "    's1': {'a0': {'s0': +1}},\n",
    "    's0': {'a1': {'s2': +1}},\n",
    "    's2': {'a0': {'s0': -.09/.81}}\n",
    "}\n",
    "\n",
    "from mdp import MDP\n",
    "from numpy import random\n",
    "mdp = MDP(transition_probs, rewards, initial_state=random.choice(tuple(transition_probs.keys())))\n",
    "# Feel free to change the initial_state"
   ]
  },
  {
   "cell_type": "code",
   "execution_count": 323,
   "metadata": {
    "ExecuteTime": {
     "end_time": "2018-04-02T13:43:17.122424Z",
     "start_time": "2018-04-02T13:43:05.582Z"
    }
   },
   "outputs": [],
   "source": [
    "# If you Colab, uncomment this please\n",
    "# !wget -q https://raw.githubusercontent.com/yandexdataschool/Practical_RL/master/week02_value_based/mdp.py\n",
    "\n",
    "gamma = .9\n",
    "transition_probs = {\n",
    "    's0': {\n",
    "        'a0': {'s1': 1.},\n",
    "        'a1': {'s2': 1.}\n",
    "    },\n",
    "    's1': {\n",
    "        'a0': {'s0': .01, 's1': .99}\n",
    "    },\n",
    "    's2': {\n",
    "        'a0': {'s0': .01, 's2': .99}\n",
    "    }\n",
    "}\n",
    "rewards = {\n",
    "    's0': {'a0': {'s1': 10}, 'a1': {'s2': -10}},\n",
    "    's1': {'a0': {'s0': -500, 's1': 3.85}},\n",
    "    's2': {'a0': {'s0': 500, 's2': -3.8}},\n",
    "}\n",
    "\n",
    "from mdp import MDP\n",
    "from numpy import random\n",
    "mdp = MDP(transition_probs, rewards, initial_state='s0')\n",
    "# Feel free to change the initial_state"
   ]
  },
  {
   "cell_type": "code",
   "execution_count": 324,
   "metadata": {
    "ExecuteTime": {
     "end_time": "2018-04-02T13:43:17.123825Z",
     "start_time": "2018-04-02T13:43:05.586Z"
    }
   },
   "outputs": [
    {
     "name": "stdout",
     "output_type": "stream",
     "text": [
      "['a0' 'a0' 'a0']\n",
      "iter    0   |   diff: 10.00000   |   V(start): 10.000 \n",
      "iter    1   |   diff: 1.19306   |   V(start): 8.930 \n",
      "iter    2   |   diff: 1.05339   |   V(start): 8.058 \n",
      "iter    3   |   diff: 0.93072   |   V(start): 7.273 \n",
      "iter    4   |   diff: 0.82220   |   V(start): 6.566 \n",
      "iter    5   |   diff: 0.72622   |   V(start): 5.929 \n",
      "iter    6   |   diff: 0.64133   |   V(start): 5.356 \n",
      "iter    7   |   diff: 0.56627   |   V(start): 4.841 \n",
      "iter    8   |   diff: 0.49991   |   V(start): 4.377 \n",
      "iter    9   |   diff: 0.44124   |   V(start): 3.959 \n",
      "iter   10   |   diff: 0.38939   |   V(start): 3.584 \n",
      "iter   11   |   diff: 0.34356   |   V(start): 3.245 \n",
      "iter   12   |   diff: 0.30438   |   V(start): 2.941 \n",
      "iter   13   |   diff: 0.27394   |   V(start): 2.667 \n",
      "iter   14   |   diff: 0.24655   |   V(start): 2.421 \n",
      "iter   15   |   diff: 0.22189   |   V(start): 2.199 \n",
      "iter   16   |   diff: 0.19970   |   V(start): 1.999 \n",
      "iter   17   |   diff: 0.17973   |   V(start): 1.819 \n",
      "iter   18   |   diff: 0.16176   |   V(start): 1.658 \n",
      "iter   19   |   diff: 0.14558   |   V(start): 1.512 \n",
      "iter   20   |   diff: 0.13103   |   V(start): 1.381 \n",
      "iter   21   |   diff: 0.11792   |   V(start): 1.263 \n",
      "iter   22   |   diff: 0.10613   |   V(start): 1.157 \n",
      "iter   23   |   diff: 0.09552   |   V(start): 1.061 \n",
      "iter   24   |   diff: 0.08597   |   V(start): 0.975 \n",
      "iter   25   |   diff: 0.07737   |   V(start): 0.898 \n",
      "iter   26   |   diff: 0.06963   |   V(start): 0.828 \n",
      "iter   27   |   diff: 0.06267   |   V(start): 0.766 \n",
      "iter   28   |   diff: 0.05640   |   V(start): 0.709 \n",
      "iter   29   |   diff: 0.05076   |   V(start): 0.659 \n",
      "iter   30   |   diff: 0.04569   |   V(start): 0.613 \n",
      "iter   31   |   diff: 0.04112   |   V(start): 0.572 \n",
      "iter   32   |   diff: 0.03701   |   V(start): 0.535 \n",
      "iter   33   |   diff: 0.03331   |   V(start): 0.501 \n",
      "iter   34   |   diff: 0.02997   |   V(start): 0.471 \n",
      "iter   35   |   diff: 0.02698   |   V(start): 0.444 \n",
      "iter   36   |   diff: 0.02428   |   V(start): 0.420 \n",
      "iter   37   |   diff: 0.02185   |   V(start): 0.398 \n",
      "iter   38   |   diff: 0.01967   |   V(start): 0.379 \n",
      "iter   39   |   diff: 0.01770   |   V(start): 0.361 \n",
      "iter   40   |   diff: 0.01593   |   V(start): 0.345 \n",
      "iter   41   |   diff: 0.01434   |   V(start): 0.331 \n",
      "iter   42   |   diff: 0.01290   |   V(start): 0.318 \n",
      "iter   43   |   diff: 0.01161   |   V(start): 0.306 \n",
      "iter   44   |   diff: 0.01045   |   V(start): 0.296 \n",
      "iter   45   |   diff: 0.00941   |   V(start): 0.286 \n",
      "iter   46   |   diff: 0.00847   |   V(start): 0.278 \n",
      "iter   47   |   diff: 0.00762   |   V(start): 0.270 \n",
      "iter   48   |   diff: 0.00686   |   V(start): 0.263 \n",
      "iter   49   |   diff: 0.00617   |   V(start): 0.257 \n",
      "iter   50   |   diff: 0.00555   |   V(start): 0.252 \n",
      "iter   51   |   diff: 0.00500   |   V(start): 0.247 \n",
      "iter   52   |   diff: 0.00450   |   V(start): 0.242 \n",
      "iter   53   |   diff: 0.00405   |   V(start): 0.238 \n",
      "iter   54   |   diff: 0.00364   |   V(start): 0.234 \n",
      "1: ['a1' 'a0' 'a0']\n",
      "iter   55   |   diff: 0.00328   |   V(start): 0.231 \n",
      "iter   56   |   diff: 0.00295   |   V(start): 0.232 \n",
      "iter   57   |   diff: 0.00262   |   V(start): 0.233 \n",
      "iter   58   |   diff: 0.00233   |   V(start): 0.234 \n",
      "iter   59   |   diff: 0.00207   |   V(start): 0.234 \n",
      "iter   60   |   diff: 0.00184   |   V(start): 0.235 \n",
      "iter   61   |   diff: 0.00163   |   V(start): 0.235 \n",
      "iter   62   |   diff: 0.00145   |   V(start): 0.236 \n",
      "iter   63   |   diff: 0.00129   |   V(start): 0.236 \n",
      "iter   64   |   diff: 0.00114   |   V(start): 0.237 \n",
      "iter   65   |   diff: 0.00102   |   V(start): 0.237 \n",
      "iter   66   |   diff: 0.00090   |   V(start): 0.237 \n",
      "iter   67   |   diff: 0.00080   |   V(start): 0.237 \n",
      "iter   68   |   diff: 0.00071   |   V(start): 0.238 \n",
      "iter   69   |   diff: 0.00063   |   V(start): 0.238 \n",
      "iter   70   |   diff: 0.00056   |   V(start): 0.238 \n",
      "iter   71   |   diff: 0.00050   |   V(start): 0.238 \n",
      "iter   72   |   diff: 0.00044   |   V(start): 0.238 \n",
      "iter   73   |   diff: 0.00039   |   V(start): 0.239 \n",
      "iter   74   |   diff: 0.00035   |   V(start): 0.239 \n",
      "iter   75   |   diff: 0.00031   |   V(start): 0.239 \n",
      "iter   76   |   diff: 0.00027   |   V(start): 0.239 \n",
      "iter   77   |   diff: 0.00024   |   V(start): 0.239 \n",
      "iter   78   |   diff: 0.00022   |   V(start): 0.239 \n",
      "iter   79   |   diff: 0.00019   |   V(start): 0.239 \n",
      "iter   80   |   diff: 0.00017   |   V(start): 0.239 \n",
      "iter   81   |   diff: 0.00015   |   V(start): 0.239 \n",
      "iter   82   |   diff: 0.00013   |   V(start): 0.239 \n",
      "iter   83   |   diff: 0.00012   |   V(start): 0.239 \n",
      "iter   84   |   diff: 0.00011   |   V(start): 0.239 \n",
      "iter   85   |   diff: 0.00009   |   V(start): 0.239 \n",
      "iter   86   |   diff: 0.00008   |   V(start): 0.240 \n",
      "iter   87   |   diff: 0.00007   |   V(start): 0.240 \n",
      "iter   88   |   diff: 0.00007   |   V(start): 0.240 \n",
      "iter   89   |   diff: 0.00006   |   V(start): 0.240 \n",
      "iter   90   |   diff: 0.00005   |   V(start): 0.240 \n",
      "iter   91   |   diff: 0.00005   |   V(start): 0.240 \n",
      "iter   92   |   diff: 0.00004   |   V(start): 0.240 \n",
      "iter   93   |   diff: 0.00004   |   V(start): 0.240 \n",
      "iter   94   |   diff: 0.00003   |   V(start): 0.240 \n",
      "iter   95   |   diff: 0.00003   |   V(start): 0.240 \n",
      "iter   96   |   diff: 0.00003   |   V(start): 0.240 \n",
      "iter   97   |   diff: 0.00002   |   V(start): 0.240 \n",
      "iter   98   |   diff: 0.00002   |   V(start): 0.240 \n",
      "iter   99   |   diff: 0.00002   |   V(start): 0.240 \n"
     ]
    }
   ],
   "source": [
    "state_values = {s: 0 for s in mdp.get_all_states()}\n",
    "policy = np.array([get_optimal_action(mdp, state_values, state, gamma)\n",
    "                   for state in sorted(mdp.get_all_states())])\n",
    "print(policy)\n",
    "\n",
    "for i in range(100):\n",
    "    state_values = value_iteration(mdp, state_values, num_iter=1, iter_base=i)\n",
    "\n",
    "    new_policy = np.array([\n",
    "        get_optimal_action(mdp, state_values, state, gamma)\n",
    "        for state in sorted(mdp.get_all_states())\n",
    "    ])\n",
    "\n",
    "    n_changes = (policy != new_policy).sum()\n",
    "    policy = new_policy\n",
    "    if n_changes > 0:\n",
    "        print(f\"{n_changes}: {policy}\")\n",
    "\n",
    "# please ignore iter 0 at each step"
   ]
  },
  {
   "cell_type": "markdown",
   "metadata": {},
   "source": [
    "### Bonus 2 - Policy Iteration (3+ points)\n",
    "\n",
    "Let's implement exact policy iteration (PI), which has the following pseudocode:\n",
    "\n",
    "---\n",
    "Initialize $\\pi_0$   `// random or fixed action`\n",
    "\n",
    "For $n=0, 1, 2, \\dots$\n",
    "- Compute the state-value function $V^{\\pi_{n}}$\n",
    "- Using $V^{\\pi_{n}}$, compute the state-action-value function $Q^{\\pi_{n}}$\n",
    "- Compute new policy $\\pi_{n+1}(s) = \\operatorname*{argmax}_a Q^{\\pi_{n}}(s,a)$\n",
    "---\n",
    "\n",
    "Unlike VI, policy iteration has to maintain a policy - chosen actions from all states - and estimate $V^{\\pi_{n}}$ based on this policy. It only changes policy once values converged.\n",
    "\n",
    "\n",
    "Below are a few helpers that you may or may not use in your implementation."
   ]
  },
  {
   "cell_type": "code",
   "execution_count": 349,
   "metadata": {
    "ExecuteTime": {
     "end_time": "2018-04-02T13:43:17.125320Z",
     "start_time": "2018-04-02T13:43:05.590Z"
    }
   },
   "outputs": [],
   "source": [
    "transition_probs = {\n",
    "    's0': {\n",
    "        'a0': {'s0': 0.5, 's2': 0.5},\n",
    "        'a1': {'s2': 1}\n",
    "    },\n",
    "    's1': {\n",
    "        'a0': {'s0': 0.7, 's1': 0.1, 's2': 0.2},\n",
    "        'a1': {'s1': 0.95, 's2': 0.05}\n",
    "    },\n",
    "    's2': {\n",
    "        'a0': {'s0': 0.4, 's1': 0.6},\n",
    "        'a1': {'s0': 0.3, 's1': 0.3, 's2': 0.4}\n",
    "    }\n",
    "}\n",
    "rewards = {\n",
    "    's1': {'a0': {'s0': +5}},\n",
    "    's2': {'a1': {'s0': -1}}\n",
    "}\n",
    "\n",
    "from mdp import MDP\n",
    "mdp = MDP(transition_probs, rewards, initial_state='s0')"
   ]
  },
  {
   "cell_type": "code",
   "execution_count": 560,
   "metadata": {},
   "outputs": [],
   "source": [
    "transition_probs = {\n",
    "    's0': {\n",
    "        'a0': {'s0': 0.5, 's2': 0.5},\n",
    "        'a1': {'s2': 1.}\n",
    "    },\n",
    "    's1': {\n",
    "        'a0': {'s0': 0.7, 's1': 0.1, 's2': 0.2},\n",
    "        'a1': {'s1': 0.95, 's2': 0.05}\n",
    "    },\n",
    "    's2': {\n",
    "        'a0': {'s0': 0.4, 's2': 0.6},\n",
    "        'a1': {'s0': 0.3, 's1': 0.3, 's2': 0.4}\n",
    "    }\n",
    "}\n",
    "rewards = {\n",
    "    's1': {'a0': {'s0': +5}},\n",
    "    's2': {'a1': {'s0': -1}}\n",
    "}\n",
    "\n",
    "from mdp import MDP\n",
    "mdp = MDP(transition_probs, rewards, initial_state='s0')"
   ]
  },
  {
   "cell_type": "markdown",
   "metadata": {},
   "source": [
    "Let's write a function called `compute_vpi` that computes the state-value function $V^{\\pi}$ for an arbitrary policy $\\pi$.\n",
    "\n",
    "Unlike VI, this time you must find the exact solution, not just a single iteration.\n",
    "\n",
    "Recall that $V^{\\pi}$ satisfies the following linear equation:\n",
    "$$V^{\\pi}(s) = \\sum_{s'} P(s,\\pi(s),s')[ R(s,\\pi(s),s') + \\gamma V^{\\pi}(s')]$$\n",
    "\n",
    "You'll have to solve a linear system in your code. (Find an exact solution, e.g., with `np.linalg.solve`.)"
   ]
  },
  {
   "cell_type": "code",
   "execution_count": 574,
   "metadata": {
    "ExecuteTime": {
     "end_time": "2018-04-02T13:43:17.126518Z",
     "start_time": "2018-04-02T13:43:05.593Z"
    }
   },
   "outputs": [],
   "source": [
    "def compute_vpi(mdp, policy, gamma):\n",
    "    \"\"\"\n",
    "    Computes V^pi(s) FOR ALL STATES under given policy.\n",
    "    :param policy: a dict of currently chosen actions {s : a}\n",
    "    :returns: a dict {state : V^pi(state) for all states}\n",
    "    \"\"\"\n",
    "    n_states = mdp.n_states\n",
    "    weights = np.identity(n_states)\n",
    "    bias = np.zeros(n_states)\n",
    "    for i, s0 in enumerate(mdp.get_all_states()):\n",
    "        if s0 not in policy:\n",
    "            continue\n",
    "        a0 = policy[s0]\n",
    "        w = weights[i]\n",
    "        for j, s1 in enumerate(mdp.get_all_states()):\n",
    "            prob = mdp.get_transition_prob(s0, a0, s1)\n",
    "            if prob > .0:\n",
    "                w[j] -= prob * gamma\n",
    "                bias[i] += prob * mdp.get_reward(s0, a0, s1)\n",
    "    \n",
    "    res = np.linalg.solve(weights, bias)\n",
    "    v = {\n",
    "        s: res[i]\n",
    "        for i, s in enumerate(mdp.get_all_states())\n",
    "    }\n",
    "    return v"
   ]
  },
  {
   "cell_type": "code",
   "execution_count": 582,
   "metadata": {
    "ExecuteTime": {
     "end_time": "2018-04-02T13:43:17.127349Z",
     "start_time": "2018-04-02T13:43:05.597Z"
    }
   },
   "outputs": [
    {
     "name": "stdout",
     "output_type": "stream",
     "text": [
      "{'s0': 0.0, 's1': 0.0, 's2': 0.0}\n"
     ]
    }
   ],
   "source": [
    "test_policy = {\n",
    "    s: np.random.choice(mdp.get_possible_actions(s))\n",
    "    for s in mdp.get_all_states()\n",
    "    if not mdp.is_terminal(s)\n",
    "}\n",
    "new_vpi = compute_vpi(mdp, test_policy, gamma)\n",
    "\n",
    "print(new_vpi)\n",
    "\n",
    "assert type(new_vpi) is dict, \"compute_vpi must return a dict {state : V^pi(state) for all states}\""
   ]
  },
  {
   "cell_type": "markdown",
   "metadata": {},
   "source": [
    "Once we've got new state values, it's time to update our policy."
   ]
  },
  {
   "cell_type": "code",
   "execution_count": 583,
   "metadata": {
    "ExecuteTime": {
     "end_time": "2018-04-02T13:43:17.128415Z",
     "start_time": "2018-04-02T13:43:05.601Z"
    }
   },
   "outputs": [],
   "source": [
    "def compute_new_policy(mdp, vpi, gamma):\n",
    "    \"\"\"\n",
    "    Computes new policy as argmax of state values\n",
    "    :param vpi: a dict {state : V^pi(state) for all states}\n",
    "    :returns: a dict {state : optimal action for all states}\n",
    "    \"\"\"\n",
    "    \n",
    "    policy = {\n",
    "        s0: get_optimal_action(mdp, vpi, s0, gamma)\n",
    "        for s0 in mdp.get_all_states()\n",
    "        if not mdp.is_terminal(s0)\n",
    "    }\n",
    "    return policy"
   ]
  },
  {
   "cell_type": "code",
   "execution_count": 584,
   "metadata": {
    "ExecuteTime": {
     "end_time": "2018-04-02T13:43:17.129416Z",
     "start_time": "2018-04-02T13:43:05.604Z"
    }
   },
   "outputs": [
    {
     "name": "stdout",
     "output_type": "stream",
     "text": [
      "{'s0': 'a0', 's1': 'a0', 's2': 'a0'}\n"
     ]
    }
   ],
   "source": [
    "new_policy = compute_new_policy(mdp, new_vpi, gamma)\n",
    "\n",
    "print(new_policy)\n",
    "\n",
    "assert type(\n",
    "    new_policy) is dict, \"compute_new_policy must return a dict {state : optimal action for all states}\""
   ]
  },
  {
   "cell_type": "markdown",
   "metadata": {},
   "source": [
    "__Main loop__"
   ]
  },
  {
   "cell_type": "code",
   "execution_count": 585,
   "metadata": {
    "ExecuteTime": {
     "end_time": "2018-04-02T13:43:17.130183Z",
     "start_time": "2018-04-02T13:43:05.608Z"
    }
   },
   "outputs": [],
   "source": [
    "def policy_iteration(mdp, policy=None, gamma=0.9, num_iter=1000, min_difference=1e-5, iter_base=0, print_res=True):\n",
    "    \"\"\" \n",
    "    Run the policy iteration loop for num_iter iterations or till difference between V(s) is below min_difference.\n",
    "    If policy is not given, initialize it at random.\n",
    "    \"\"\"\n",
    "    if not policy:\n",
    "        policy = {\n",
    "            s: np.random.choice(mdp.get_possible_actions(s))\n",
    "            for s in mdp.get_all_states()\n",
    "            if not mdp.is_terminal(s)\n",
    "        }\n",
    "    state_values = {s: 0. for s in mdp.get_all_states()}\n",
    "    \n",
    "    for i in range(num_iter):\n",
    "        new_state_values = compute_vpi(mdp, policy, gamma)\n",
    "        new_policy = compute_new_policy(mdp, new_state_values, gamma)\n",
    "        \n",
    "        # Compute difference\n",
    "        diff = max(\n",
    "            abs(new_state_values[s] - state_values[s])\n",
    "            for s in mdp.get_all_states()\n",
    "        )\n",
    "\n",
    "        if print_res:\n",
    "            print(\"iter %4i   |   diff: %6.5f   |   V(start): %.3f \" %\n",
    "                  (iter_base + i, diff, new_state_values[mdp._initial_state]))\n",
    "\n",
    "        state_values = new_state_values\n",
    "        policy = new_policy\n",
    "        if diff < min_difference and i > 0:\n",
    "            break\n",
    "\n",
    "    return state_values, policy"
   ]
  },
  {
   "cell_type": "code",
   "execution_count": 596,
   "metadata": {},
   "outputs": [
    {
     "name": "stdout",
     "output_type": "stream",
     "text": [
      "iter    0   |   diff: 0.00000   |   V(start): 0.000 \n",
      "iter    1   |   diff: 3.84615   |   V(start): -0.000 \n",
      "iter    2   |   diff: 4.21105   |   V(start): 3.790 \n",
      "iter    3   |   diff: 0.00000   |   V(start): 3.790 \n"
     ]
    },
    {
     "data": {
      "text/plain": [
       "({'s0': 3.78994861511468, 's1': 7.3029201654342675, 's2': 4.211054016794089},\n",
       " {'s0': 'a1', 's1': 'a0', 's2': 'a1'})"
      ]
     },
     "execution_count": 596,
     "metadata": {},
     "output_type": "execute_result"
    }
   ],
   "source": [
    "v, pi = policy_iteration(mdp)\n",
    "v, pi"
   ]
  },
  {
   "cell_type": "markdown",
   "metadata": {},
   "source": [
    "__Your PI Results__"
   ]
  },
  {
   "cell_type": "code",
   "execution_count": 597,
   "metadata": {},
   "outputs": [
    {
     "name": "stdout",
     "output_type": "stream",
     "text": [
      "*FFF\n",
      "FHFH\n",
      "FFFH\n",
      "HFFG\n",
      "\n",
      "iter    0   |   diff: 0.00000   |   V(start): 0.000 \n",
      "iter    1   |   diff: 1.00000   |   V(start): -0.000 \n",
      "iter    2   |   diff: 0.90000   |   V(start): -0.000 \n",
      "iter    3   |   diff: 0.81000   |   V(start): -0.000 \n",
      "iter    4   |   diff: 0.72900   |   V(start): -0.000 \n",
      "iter    5   |   diff: 0.65610   |   V(start): 0.000 \n",
      "iter    6   |   diff: 0.59049   |   V(start): 0.590 \n",
      "iter    7   |   diff: 0.00000   |   V(start): 0.590 \n"
     ]
    },
    {
     "data": {
      "text/plain": [
       "({(0, 0): 0.5904900000000002,\n",
       "  (0, 1): 0.6561000000000001,\n",
       "  (0, 2): 0.7290000000000001,\n",
       "  (0, 3): 0.6561000000000001,\n",
       "  (1, 0): 0.6561000000000001,\n",
       "  (1, 1): 0.0,\n",
       "  (1, 2): 0.81,\n",
       "  (1, 3): 0.0,\n",
       "  (2, 0): 0.7290000000000001,\n",
       "  (2, 1): 0.81,\n",
       "  (2, 2): 0.9,\n",
       "  (2, 3): 0.0,\n",
       "  (3, 0): 0.0,\n",
       "  (3, 1): 0.9,\n",
       "  (3, 2): 1.0,\n",
       "  (3, 3): 0.0},\n",
       " {(0, 0): 'down',\n",
       "  (0, 1): 'right',\n",
       "  (0, 2): 'down',\n",
       "  (0, 3): 'left',\n",
       "  (1, 0): 'down',\n",
       "  (1, 2): 'down',\n",
       "  (2, 0): 'right',\n",
       "  (2, 1): 'down',\n",
       "  (2, 2): 'down',\n",
       "  (3, 1): 'right',\n",
       "  (3, 2): 'right'})"
      ]
     },
     "execution_count": 597,
     "metadata": {},
     "output_type": "execute_result"
    }
   ],
   "source": [
    "from mdp import FrozenLakeEnv\n",
    "mdp = FrozenLakeEnv(slip_chance=0)\n",
    "\n",
    "mdp.render()\n",
    "v, pi = policy_iteration(mdp)\n",
    "v, pi"
   ]
  },
  {
   "cell_type": "markdown",
   "metadata": {},
   "source": [
    "___"
   ]
  },
  {
   "cell_type": "code",
   "execution_count": 607,
   "metadata": {
    "ExecuteTime": {
     "end_time": "2018-04-02T13:43:17.122424Z",
     "start_time": "2018-04-02T13:43:05.582Z"
    }
   },
   "outputs": [],
   "source": [
    "# If you Colab, uncomment this please\n",
    "# !wget -q https://raw.githubusercontent.com/yandexdataschool/Practical_RL/master/week02_value_based/mdp.py\n",
    "\n",
    "gamma = .9\n",
    "transition_probs = {\n",
    "    's0': {\n",
    "        'a0': {'s1': 1.},\n",
    "        'a1': {'s2': 1.}\n",
    "    },\n",
    "    's1': {\n",
    "        'a0': {'s0': 1.}\n",
    "    },\n",
    "    's2': {\n",
    "        'a0': {'s0': 1.}\n",
    "    }\n",
    "}\n",
    "rewards = {\n",
    "    's1': {'a0': {'s0': +1}},\n",
    "    's0': {'a1': {'s2': +1}},\n",
    "    's2': {'a0': {'s0': -.09/.81}}\n",
    "}\n",
    "\n",
    "from mdp import MDP\n",
    "from numpy import random\n",
    "mdp = MDP(transition_probs, rewards, initial_state=random.choice(tuple(transition_probs.keys())))\n",
    "# Feel free to change the initial_state"
   ]
  },
  {
   "cell_type": "code",
   "execution_count": 605,
   "metadata": {
    "ExecuteTime": {
     "end_time": "2018-04-02T13:43:17.122424Z",
     "start_time": "2018-04-02T13:43:05.582Z"
    }
   },
   "outputs": [],
   "source": [
    "# If you Colab, uncomment this please\n",
    "# !wget -q https://raw.githubusercontent.com/yandexdataschool/Practical_RL/master/week02_value_based/mdp.py\n",
    "\n",
    "gamma = .9\n",
    "transition_probs = {\n",
    "    's0': {\n",
    "        'a0': {'s1': 1.},\n",
    "        'a1': {'s2': 1.}\n",
    "    },\n",
    "    's1': {\n",
    "        'a0': {'s0': .01, 's1': .99}\n",
    "    },\n",
    "    's2': {\n",
    "        'a0': {'s0': .01, 's2': .99}\n",
    "    }\n",
    "}\n",
    "rewards = {\n",
    "    's0': {'a0': {'s1': 10}, 'a1': {'s2': -10}},\n",
    "    's1': {'a0': {'s0': -500, 's1': 3.85}},\n",
    "    's2': {'a0': {'s0': 500, 's2': -3.8}},\n",
    "}\n",
    "\n",
    "from mdp import MDP\n",
    "from numpy import random\n",
    "mdp = MDP(transition_probs, rewards, initial_state='s0')\n",
    "# Feel free to change the initial_state"
   ]
  },
  {
   "cell_type": "code",
   "execution_count": 608,
   "metadata": {
    "ExecuteTime": {
     "end_time": "2018-04-02T13:43:17.130926Z",
     "start_time": "2018-04-02T13:43:05.612Z"
    }
   },
   "outputs": [
    {
     "name": "stdout",
     "output_type": "stream",
     "text": [
      "iter    0   |   diff: 5.26316   |   V(start): 4.737 \n",
      "1: {'s0': 'a0', 's1': 'a0', 's2': 'a0'}\n",
      "iter    1   |   diff: 5.26316   |   V(start): 4.737 \n",
      "iter    2   |   diff: 5.26316   |   V(start): 4.737 \n",
      "iter    3   |   diff: 5.26316   |   V(start): 4.737 \n",
      "iter    4   |   diff: 5.26316   |   V(start): 4.737 \n",
      "iter    5   |   diff: 5.26316   |   V(start): 4.737 \n",
      "iter    6   |   diff: 5.26316   |   V(start): 4.737 \n",
      "iter    7   |   diff: 5.26316   |   V(start): 4.737 \n",
      "iter    8   |   diff: 5.26316   |   V(start): 4.737 \n",
      "iter    9   |   diff: 5.26316   |   V(start): 4.737 \n",
      "iter   10   |   diff: 5.26316   |   V(start): 4.737 \n",
      "iter   11   |   diff: 5.26316   |   V(start): 4.737 \n",
      "iter   12   |   diff: 5.26316   |   V(start): 4.737 \n",
      "iter   13   |   diff: 5.26316   |   V(start): 4.737 \n",
      "iter   14   |   diff: 5.26316   |   V(start): 4.737 \n",
      "iter   15   |   diff: 5.26316   |   V(start): 4.737 \n",
      "iter   16   |   diff: 5.26316   |   V(start): 4.737 \n",
      "iter   17   |   diff: 5.26316   |   V(start): 4.737 \n",
      "iter   18   |   diff: 5.26316   |   V(start): 4.737 \n",
      "iter   19   |   diff: 5.26316   |   V(start): 4.737 \n",
      "iter   20   |   diff: 5.26316   |   V(start): 4.737 \n",
      "iter   21   |   diff: 5.26316   |   V(start): 4.737 \n",
      "iter   22   |   diff: 5.26316   |   V(start): 4.737 \n",
      "iter   23   |   diff: 5.26316   |   V(start): 4.737 \n",
      "iter   24   |   diff: 5.26316   |   V(start): 4.737 \n",
      "iter   25   |   diff: 5.26316   |   V(start): 4.737 \n",
      "iter   26   |   diff: 5.26316   |   V(start): 4.737 \n",
      "iter   27   |   diff: 5.26316   |   V(start): 4.737 \n",
      "iter   28   |   diff: 5.26316   |   V(start): 4.737 \n",
      "iter   29   |   diff: 5.26316   |   V(start): 4.737 \n",
      "iter   30   |   diff: 5.26316   |   V(start): 4.737 \n",
      "iter   31   |   diff: 5.26316   |   V(start): 4.737 \n",
      "iter   32   |   diff: 5.26316   |   V(start): 4.737 \n",
      "iter   33   |   diff: 5.26316   |   V(start): 4.737 \n",
      "iter   34   |   diff: 5.26316   |   V(start): 4.737 \n",
      "iter   35   |   diff: 5.26316   |   V(start): 4.737 \n",
      "iter   36   |   diff: 5.26316   |   V(start): 4.737 \n",
      "iter   37   |   diff: 5.26316   |   V(start): 4.737 \n",
      "iter   38   |   diff: 5.26316   |   V(start): 4.737 \n",
      "iter   39   |   diff: 5.26316   |   V(start): 4.737 \n",
      "iter   40   |   diff: 5.26316   |   V(start): 4.737 \n",
      "iter   41   |   diff: 5.26316   |   V(start): 4.737 \n",
      "iter   42   |   diff: 5.26316   |   V(start): 4.737 \n",
      "iter   43   |   diff: 5.26316   |   V(start): 4.737 \n",
      "iter   44   |   diff: 5.26316   |   V(start): 4.737 \n",
      "iter   45   |   diff: 5.26316   |   V(start): 4.737 \n",
      "iter   46   |   diff: 5.26316   |   V(start): 4.737 \n",
      "iter   47   |   diff: 5.26316   |   V(start): 4.737 \n",
      "iter   48   |   diff: 5.26316   |   V(start): 4.737 \n",
      "iter   49   |   diff: 5.26316   |   V(start): 4.737 \n",
      "iter   50   |   diff: 5.26316   |   V(start): 4.737 \n",
      "iter   51   |   diff: 5.26316   |   V(start): 4.737 \n",
      "iter   52   |   diff: 5.26316   |   V(start): 4.737 \n",
      "iter   53   |   diff: 5.26316   |   V(start): 4.737 \n",
      "iter   54   |   diff: 5.26316   |   V(start): 4.737 \n",
      "iter   55   |   diff: 5.26316   |   V(start): 4.737 \n",
      "iter   56   |   diff: 5.26316   |   V(start): 4.737 \n",
      "iter   57   |   diff: 5.26316   |   V(start): 4.737 \n",
      "iter   58   |   diff: 5.26316   |   V(start): 4.737 \n",
      "iter   59   |   diff: 5.26316   |   V(start): 4.737 \n",
      "iter   60   |   diff: 5.26316   |   V(start): 4.737 \n",
      "iter   61   |   diff: 5.26316   |   V(start): 4.737 \n",
      "iter   62   |   diff: 5.26316   |   V(start): 4.737 \n",
      "iter   63   |   diff: 5.26316   |   V(start): 4.737 \n",
      "iter   64   |   diff: 5.26316   |   V(start): 4.737 \n",
      "iter   65   |   diff: 5.26316   |   V(start): 4.737 \n",
      "iter   66   |   diff: 5.26316   |   V(start): 4.737 \n",
      "iter   67   |   diff: 5.26316   |   V(start): 4.737 \n",
      "iter   68   |   diff: 5.26316   |   V(start): 4.737 \n",
      "iter   69   |   diff: 5.26316   |   V(start): 4.737 \n",
      "iter   70   |   diff: 5.26316   |   V(start): 4.737 \n",
      "iter   71   |   diff: 5.26316   |   V(start): 4.737 \n",
      "iter   72   |   diff: 5.26316   |   V(start): 4.737 \n",
      "iter   73   |   diff: 5.26316   |   V(start): 4.737 \n",
      "iter   74   |   diff: 5.26316   |   V(start): 4.737 \n",
      "iter   75   |   diff: 5.26316   |   V(start): 4.737 \n",
      "iter   76   |   diff: 5.26316   |   V(start): 4.737 \n",
      "iter   77   |   diff: 5.26316   |   V(start): 4.737 \n",
      "iter   78   |   diff: 5.26316   |   V(start): 4.737 \n",
      "iter   79   |   diff: 5.26316   |   V(start): 4.737 \n",
      "iter   80   |   diff: 5.26316   |   V(start): 4.737 \n",
      "iter   81   |   diff: 5.26316   |   V(start): 4.737 \n",
      "iter   82   |   diff: 5.26316   |   V(start): 4.737 \n",
      "iter   83   |   diff: 5.26316   |   V(start): 4.737 \n",
      "iter   84   |   diff: 5.26316   |   V(start): 4.737 \n",
      "iter   85   |   diff: 5.26316   |   V(start): 4.737 \n",
      "iter   86   |   diff: 5.26316   |   V(start): 4.737 \n",
      "iter   87   |   diff: 5.26316   |   V(start): 4.737 \n",
      "iter   88   |   diff: 5.26316   |   V(start): 4.737 \n",
      "iter   89   |   diff: 5.26316   |   V(start): 4.737 \n",
      "iter   90   |   diff: 5.26316   |   V(start): 4.737 \n",
      "iter   91   |   diff: 5.26316   |   V(start): 4.737 \n",
      "iter   92   |   diff: 5.26316   |   V(start): 4.737 \n",
      "iter   93   |   diff: 5.26316   |   V(start): 4.737 \n",
      "iter   94   |   diff: 5.26316   |   V(start): 4.737 \n",
      "iter   95   |   diff: 5.26316   |   V(start): 4.737 \n",
      "iter   96   |   diff: 5.26316   |   V(start): 4.737 \n",
      "iter   97   |   diff: 5.26316   |   V(start): 4.737 \n",
      "iter   98   |   diff: 5.26316   |   V(start): 4.737 \n",
      "iter   99   |   diff: 5.26316   |   V(start): 4.737 \n"
     ]
    }
   ],
   "source": [
    "def to_nparray(a):\n",
    "    return np.array([x for x in a])\n",
    "policy = {\n",
    "    s: np.random.choice(mdp.get_possible_actions(s))\n",
    "    for s in mdp.get_all_states()\n",
    "    if not mdp.is_terminal(s)\n",
    "}\n",
    "state_values = {s: 0. for s in mdp.get_all_states()}\n",
    "\n",
    "for i in range(100):\n",
    "    new_state_values, new_policy = policy_iteration(mdp, policy, num_iter=1, iter_base=i)\n",
    "    \n",
    "    n_changes = (to_nparray(policy.values()) != to_nparray(new_policy.values())).sum()\n",
    "    policy = new_policy\n",
    "    if n_changes > 0:\n",
    "        print(f\"{n_changes}: {policy}\")"
   ]
  },
  {
   "cell_type": "code",
   "execution_count": null,
   "metadata": {},
   "outputs": [],
   "source": []
  }
 ],
 "metadata": {
  "kernelspec": {
   "display_name": "Python 3",
   "language": "python",
   "name": "python3"
  },
  "language_info": {
   "codemirror_mode": {
    "name": "ipython",
    "version": 3
   },
   "file_extension": ".py",
   "mimetype": "text/x-python",
   "name": "python",
   "nbconvert_exporter": "python",
   "pygments_lexer": "ipython3",
   "version": "3.7.3"
  },
  "toc": {
   "nav_menu": {},
   "number_sections": true,
   "sideBar": true,
   "skip_h1_title": false,
   "title_cell": "Table of Contents",
   "title_sidebar": "Contents",
   "toc_cell": false,
   "toc_position": {},
   "toc_section_display": true,
   "toc_window_display": false
  },
  "varInspector": {
   "cols": {
    "lenName": 16,
    "lenType": 16,
    "lenVar": 40
   },
   "kernels_config": {
    "python": {
     "delete_cmd_postfix": "",
     "delete_cmd_prefix": "del ",
     "library": "var_list.py",
     "varRefreshCmd": "print(var_dic_list())"
    },
    "r": {
     "delete_cmd_postfix": ") ",
     "delete_cmd_prefix": "rm(",
     "library": "var_list.r",
     "varRefreshCmd": "cat(var_dic_list()) "
    }
   },
   "types_to_exclude": [
    "module",
    "function",
    "builtin_function_or_method",
    "instance",
    "_Feature"
   ],
   "window_display": false
  }
 },
 "nbformat": 4,
 "nbformat_minor": 4
}
